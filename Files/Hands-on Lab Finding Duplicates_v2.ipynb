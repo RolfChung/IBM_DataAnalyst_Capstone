{
 "cells": [
  {
   "cell_type": "markdown",
   "metadata": {},
   "source": [
    "<p style=\"text-align:center\">\n",
    "    <a href=\"https://skills.network\" target=\"_blank\">\n",
    "    <img src=\"https://cf-courses-data.s3.us.cloud-object-storage.appdomain.cloud/assets/logos/SN_web_lightmode.png\" width=\"200\" alt=\"Skills Network Logo\"  />\n",
    "    </a>\n",
    "</p>\n"
   ]
  },
  {
   "cell_type": "markdown",
   "metadata": {},
   "source": [
    "# **Finding Duplicates Lab**\n"
   ]
  },
  {
   "cell_type": "markdown",
   "metadata": {},
   "source": [
    "Estimated time needed: **30** minutes\n"
   ]
  },
  {
   "cell_type": "markdown",
   "metadata": {},
   "source": [
    "## Introduction\n"
   ]
  },
  {
   "cell_type": "markdown",
   "metadata": {},
   "source": [
    "Data wrangling is a critical step in preparing datasets for analysis, and handling duplicates plays a key role in ensuring data accuracy. In this lab, you will focus on identifying and removing duplicate entries from your dataset. \n"
   ]
  },
  {
   "cell_type": "markdown",
   "metadata": {},
   "source": [
    "## Objectives\n"
   ]
  },
  {
   "cell_type": "markdown",
   "metadata": {},
   "source": [
    "In this lab, you will perform the following:\n"
   ]
  },
  {
   "cell_type": "markdown",
   "metadata": {},
   "source": [
    "1. Identify duplicate rows in the dataset and analyze their characteristics.\n",
    "2. Visualize the distribution of duplicates based on key attributes.\n",
    "3. Remove duplicate values strategically based on specific criteria.\n",
    "4. Outline the process of verifying and documenting duplicate removal.\n"
   ]
  },
  {
   "cell_type": "markdown",
   "metadata": {},
   "source": [
    "## Hands on Lab\n"
   ]
  },
  {
   "cell_type": "markdown",
   "metadata": {},
   "source": [
    "Install the needed library\n"
   ]
  },
  {
   "cell_type": "code",
   "execution_count": 10,
   "metadata": {},
   "outputs": [
    {
     "name": "stdout",
     "output_type": "stream",
     "text": [
      "Requirement already satisfied: pandas in /opt/conda/lib/python3.12/site-packages (2.3.0)\n",
      "Requirement already satisfied: numpy>=1.26.0 in /opt/conda/lib/python3.12/site-packages (from pandas) (2.3.1)\n",
      "Requirement already satisfied: python-dateutil>=2.8.2 in /opt/conda/lib/python3.12/site-packages (from pandas) (2.9.0.post0)\n",
      "Requirement already satisfied: pytz>=2020.1 in /opt/conda/lib/python3.12/site-packages (from pandas) (2024.2)\n",
      "Requirement already satisfied: tzdata>=2022.7 in /opt/conda/lib/python3.12/site-packages (from pandas) (2025.2)\n",
      "Requirement already satisfied: six>=1.5 in /opt/conda/lib/python3.12/site-packages (from python-dateutil>=2.8.2->pandas) (1.17.0)\n",
      "Requirement already satisfied: matplotlib in /opt/conda/lib/python3.12/site-packages (3.10.3)\n",
      "Requirement already satisfied: contourpy>=1.0.1 in /opt/conda/lib/python3.12/site-packages (from matplotlib) (1.3.2)\n",
      "Requirement already satisfied: cycler>=0.10 in /opt/conda/lib/python3.12/site-packages (from matplotlib) (0.12.1)\n",
      "Requirement already satisfied: fonttools>=4.22.0 in /opt/conda/lib/python3.12/site-packages (from matplotlib) (4.58.4)\n",
      "Requirement already satisfied: kiwisolver>=1.3.1 in /opt/conda/lib/python3.12/site-packages (from matplotlib) (1.4.8)\n",
      "Requirement already satisfied: numpy>=1.23 in /opt/conda/lib/python3.12/site-packages (from matplotlib) (2.3.1)\n",
      "Requirement already satisfied: packaging>=20.0 in /opt/conda/lib/python3.12/site-packages (from matplotlib) (24.2)\n",
      "Requirement already satisfied: pillow>=8 in /opt/conda/lib/python3.12/site-packages (from matplotlib) (11.3.0)\n",
      "Requirement already satisfied: pyparsing>=2.3.1 in /opt/conda/lib/python3.12/site-packages (from matplotlib) (3.2.3)\n",
      "Requirement already satisfied: python-dateutil>=2.7 in /opt/conda/lib/python3.12/site-packages (from matplotlib) (2.9.0.post0)\n",
      "Requirement already satisfied: six>=1.5 in /opt/conda/lib/python3.12/site-packages (from python-dateutil>=2.7->matplotlib) (1.17.0)\n"
     ]
    }
   ],
   "source": [
    "!pip install pandas\n",
    "!pip install matplotlib"
   ]
  },
  {
   "cell_type": "markdown",
   "metadata": {},
   "source": [
    "Import pandas module\n"
   ]
  },
  {
   "cell_type": "code",
   "execution_count": 11,
   "metadata": {},
   "outputs": [],
   "source": [
    "import pandas as pd\n"
   ]
  },
  {
   "cell_type": "markdown",
   "metadata": {},
   "source": [
    "Import matplotlib\n"
   ]
  },
  {
   "cell_type": "code",
   "execution_count": 12,
   "metadata": {},
   "outputs": [],
   "source": [
    "import matplotlib.pyplot as plt\n"
   ]
  },
  {
   "cell_type": "markdown",
   "metadata": {},
   "source": [
    "## **Load the dataset into a dataframe**\n"
   ]
  },
  {
   "cell_type": "markdown",
   "metadata": {},
   "source": [
    "<h2>Read Data</h2>\n",
    "<p>\n",
    "We utilize the <code>pandas.read_csv()</code> function for reading CSV files. However, in this version of the lab, which operates on JupyterLite, the dataset needs to be downloaded to the interface using the provided code below.\n",
    "</p>\n"
   ]
  },
  {
   "cell_type": "code",
   "execution_count": 13,
   "metadata": {
    "scrolled": true
   },
   "outputs": [
    {
     "name": "stdout",
     "output_type": "stream",
     "text": [
      "   ResponseId                      MainBranch                 Age  \\\n",
      "0           1  I am a developer by profession  Under 18 years old   \n",
      "1           2  I am a developer by profession     35-44 years old   \n",
      "2           3  I am a developer by profession     45-54 years old   \n",
      "3           4           I am learning to code     18-24 years old   \n",
      "4           5  I am a developer by profession     18-24 years old   \n",
      "\n",
      "            Employment RemoteWork   Check  \\\n",
      "0  Employed, full-time     Remote  Apples   \n",
      "1  Employed, full-time     Remote  Apples   \n",
      "2  Employed, full-time     Remote  Apples   \n",
      "3   Student, full-time        NaN  Apples   \n",
      "4   Student, full-time        NaN  Apples   \n",
      "\n",
      "                                    CodingActivities  \\\n",
      "0                                              Hobby   \n",
      "1  Hobby;Contribute to open-source projects;Other...   \n",
      "2  Hobby;Contribute to open-source projects;Other...   \n",
      "3                                                NaN   \n",
      "4                                                NaN   \n",
      "\n",
      "                                             EdLevel  \\\n",
      "0                          Primary/elementary school   \n",
      "1       Bachelor’s degree (B.A., B.S., B.Eng., etc.)   \n",
      "2    Master’s degree (M.A., M.S., M.Eng., MBA, etc.)   \n",
      "3  Some college/university study without earning ...   \n",
      "4  Secondary school (e.g. American high school, G...   \n",
      "\n",
      "                                           LearnCode  \\\n",
      "0                             Books / Physical media   \n",
      "1  Books / Physical media;Colleague;On the job tr...   \n",
      "2  Books / Physical media;Colleague;On the job tr...   \n",
      "3  Other online resources (e.g., videos, blogs, f...   \n",
      "4  Other online resources (e.g., videos, blogs, f...   \n",
      "\n",
      "                                     LearnCodeOnline  ... JobSatPoints_6  \\\n",
      "0                                                NaN  ...            NaN   \n",
      "1  Technical documentation;Blogs;Books;Written Tu...  ...            0.0   \n",
      "2  Technical documentation;Blogs;Books;Written Tu...  ...            NaN   \n",
      "3  Stack Overflow;How-to videos;Interactive tutorial  ...            NaN   \n",
      "4  Technical documentation;Blogs;Written Tutorial...  ...            NaN   \n",
      "\n",
      "  JobSatPoints_7 JobSatPoints_8 JobSatPoints_9 JobSatPoints_10  \\\n",
      "0            NaN            NaN            NaN             NaN   \n",
      "1            0.0            0.0            0.0             0.0   \n",
      "2            NaN            NaN            NaN             NaN   \n",
      "3            NaN            NaN            NaN             NaN   \n",
      "4            NaN            NaN            NaN             NaN   \n",
      "\n",
      "  JobSatPoints_11           SurveyLength SurveyEase ConvertedCompYearly JobSat  \n",
      "0             NaN                    NaN        NaN                 NaN    NaN  \n",
      "1             0.0                    NaN        NaN                 NaN    NaN  \n",
      "2             NaN  Appropriate in length       Easy                 NaN    NaN  \n",
      "3             NaN               Too long       Easy                 NaN    NaN  \n",
      "4             NaN              Too short       Easy                 NaN    NaN  \n",
      "\n",
      "[5 rows x 114 columns]\n"
     ]
    }
   ],
   "source": [
    "# Load the dataset directly from the URL\n",
    "file_path = \"https://cf-courses-data.s3.us.cloud-object-storage.appdomain.cloud/VYPrOu0Vs3I0hKLLjiPGrA/survey-data-with-duplicate.csv\"\n",
    "df = pd.read_csv(file_path)\n",
    "\n",
    "# Display the first few rows\n",
    "print(df.head())"
   ]
  },
  {
   "cell_type": "markdown",
   "metadata": {},
   "source": [
    "Load the data into a pandas dataframe:\n",
    "\n"
   ]
  },
  {
   "cell_type": "markdown",
   "metadata": {},
   "source": [
    "Note: If you are working on a local Jupyter environment, you can use the URL directly in the pandas.read_csv() function as shown below:\n",
    "\n"
   ]
  },
  {
   "cell_type": "code",
   "execution_count": 20,
   "metadata": {},
   "outputs": [
    {
     "name": "stdout",
     "output_type": "stream",
     "text": [
      "<class 'pandas.core.frame.DataFrame'>\n",
      "RangeIndex: 65457 entries, 0 to 65456\n",
      "Columns: 114 entries, ResponseId to JobSat\n",
      "dtypes: float64(13), int64(1), object(100)\n",
      "memory usage: 56.9+ MB\n",
      "None\n"
     ]
    }
   ],
   "source": [
    "# df = pd.read_csv(\"https://cf-courses-data.s3.us.cloud-object-storage.appdomain.cloud/n01PQ9pSmiRX6520flujwQ/survey-data.csv\")\n",
    "print(df.info())"
   ]
  },
  {
   "cell_type": "code",
   "execution_count": 22,
   "metadata": {},
   "outputs": [
    {
     "name": "stdout",
     "output_type": "stream",
     "text": [
      "(65457, 114)\n"
     ]
    }
   ],
   "source": [
    "print(df.shape)"
   ]
  },
  {
   "cell_type": "code",
   "execution_count": 54,
   "metadata": {},
   "outputs": [
    {
     "name": "stdout",
     "output_type": "stream",
     "text": [
      "<class 'pandas.core.frame.DataFrame'>\n",
      "RangeIndex: 65457 entries, 0 to 65456\n",
      "Data columns (total 100 columns):\n",
      " #   Column                          Non-Null Count  Dtype \n",
      "---  ------                          --------------  ----- \n",
      " 0   MainBranch                      65457 non-null  object\n",
      " 1   Age                             65457 non-null  object\n",
      " 2   Employment                      65457 non-null  object\n",
      " 3   RemoteWork                      54820 non-null  object\n",
      " 4   Check                           65457 non-null  object\n",
      " 5   CodingActivities                54480 non-null  object\n",
      " 6   EdLevel                         60803 non-null  object\n",
      " 7   LearnCode                       60507 non-null  object\n",
      " 8   LearnCodeOnline                 49251 non-null  object\n",
      " 9   TechDoc                         40907 non-null  object\n",
      " 10  YearsCode                       59887 non-null  object\n",
      " 11  YearsCodePro                    51623 non-null  object\n",
      " 12  DevType                         59463 non-null  object\n",
      " 13  OrgSize                         47488 non-null  object\n",
      " 14  PurchaseInfluence               47414 non-null  object\n",
      " 15  BuyNewTool                      45188 non-null  object\n",
      " 16  BuildvsBuy                      43366 non-null  object\n",
      " 17  TechEndorse                     43675 non-null  object\n",
      " 18  Country                         58949 non-null  object\n",
      " 19  Currency                        46692 non-null  object\n",
      " 20  LanguageHaveWorkedWith          59763 non-null  object\n",
      " 21  LanguageWantToWorkWith          55769 non-null  object\n",
      " 22  LanguageAdmired                 50888 non-null  object\n",
      " 23  DatabaseHaveWorkedWith          50269 non-null  object\n",
      " 24  DatabaseWantToWorkWith          42571 non-null  object\n",
      " 25  DatabaseAdmired                 38570 non-null  object\n",
      " 26  PlatformHaveWorkedWith          42378 non-null  object\n",
      " 27  PlatformWantToWorkWith          34543 non-null  object\n",
      " 28  PlatformAdmired                 31388 non-null  object\n",
      " 29  WebframeHaveWorkedWith          45171 non-null  object\n",
      " 30  WebframeWantToWorkWith          38544 non-null  object\n",
      " 31  WebframeAdmired                 34952 non-null  object\n",
      " 32  EmbeddedHaveWorkedWith          22221 non-null  object\n",
      " 33  EmbeddedWantToWorkWith          17606 non-null  object\n",
      " 34  EmbeddedAdmired                 16739 non-null  object\n",
      " 35  MiscTechHaveWorkedWith          39450 non-null  object\n",
      " 36  MiscTechWantToWorkWith          32969 non-null  object\n",
      " 37  MiscTechAdmired                 29601 non-null  object\n",
      " 38  ToolsTechHaveWorkedWith         52497 non-null  object\n",
      " 39  ToolsTechWantToWorkWith         46098 non-null  object\n",
      " 40  ToolsTechAdmired                44011 non-null  object\n",
      " 41  NEWCollabToolsHaveWorkedWith    57609 non-null  object\n",
      " 42  NEWCollabToolsWantToWorkWith    52103 non-null  object\n",
      " 43  NEWCollabToolsAdmired           50727 non-null  object\n",
      " 44  OpSysPersonal use               58190 non-null  object\n",
      " 45  OpSysProfessional use           52986 non-null  object\n",
      " 46  OfficeStackAsyncHaveWorkedWith  48103 non-null  object\n",
      " 47  OfficeStackAsyncWantToWorkWith  38973 non-null  object\n",
      " 48  OfficeStackAsyncAdmired         37210 non-null  object\n",
      " 49  OfficeStackSyncHaveWorkedWith   55561 non-null  object\n",
      " 50  OfficeStackSyncWantToWorkWith   46724 non-null  object\n",
      " 51  OfficeStackSyncAdmired          44725 non-null  object\n",
      " 52  AISearchDevHaveWorkedWith       44460 non-null  object\n",
      " 53  AISearchDevWantToWorkWith       36708 non-null  object\n",
      " 54  AISearchDevAdmired              35550 non-null  object\n",
      " 55  NEWSOSites                      60306 non-null  object\n",
      " 56  SOVisitFreq                     59555 non-null  object\n",
      " 57  SOAccount                       59579 non-null  object\n",
      " 58  SOPartFreq                      45251 non-null  object\n",
      " 59  SOHow                           58980 non-null  object\n",
      " 60  SOComm                          59181 non-null  object\n",
      " 61  AISelect                        60926 non-null  object\n",
      " 62  AISent                          45883 non-null  object\n",
      " 63  AIBen                           36902 non-null  object\n",
      " 64  AIAcc                           37309 non-null  object\n",
      " 65  AIComplex                       37028 non-null  object\n",
      " 66  AIToolCurrently Using           35079 non-null  object\n",
      " 67  AIToolInterested in Using       30697 non-null  object\n",
      " 68  AIToolNot interested in Using   24417 non-null  object\n",
      " 69  AINextMuch more integrated      13439 non-null  object\n",
      " 70  AINextNo change                 12502 non-null  object\n",
      " 71  AINextMore integrated           24431 non-null  object\n",
      " 72  AINextLess integrated           2355 non-null   object\n",
      " 73  AINextMuch less integrated      1148 non-null   object\n",
      " 74  AIThreat                        44698 non-null  object\n",
      " 75  AIEthics                        41556 non-null  object\n",
      " 76  AIChallenges                    37536 non-null  object\n",
      " 77  TBranch                         44490 non-null  object\n",
      " 78  ICorPM                          29807 non-null  object\n",
      " 79  Knowledge_1                     28669 non-null  object\n",
      " 80  Knowledge_2                     28026 non-null  object\n",
      " 81  Knowledge_3                     28100 non-null  object\n",
      " 82  Knowledge_4                     28035 non-null  object\n",
      " 83  Knowledge_5                     27885 non-null  object\n",
      " 84  Knowledge_6                     27869 non-null  object\n",
      " 85  Knowledge_7                     27783 non-null  object\n",
      " 86  Knowledge_8                     27763 non-null  object\n",
      " 87  Knowledge_9                     27640 non-null  object\n",
      " 88  Frequency_1                     28374 non-null  object\n",
      " 89  Frequency_2                     28369 non-null  object\n",
      " 90  Frequency_3                     27715 non-null  object\n",
      " 91  TimeSearching                   28916 non-null  object\n",
      " 92  TimeAnswering                   28849 non-null  object\n",
      " 93  Frustration                     28255 non-null  object\n",
      " 94  ProfessionalTech                27768 non-null  object\n",
      " 95  ProfessionalCloud               28496 non-null  object\n",
      " 96  ProfessionalQuestion            28812 non-null  object\n",
      " 97  Industry                        28863 non-null  object\n",
      " 98  SurveyLength                    56198 non-null  object\n",
      " 99  SurveyEase                      56255 non-null  object\n",
      "dtypes: object(100)\n",
      "memory usage: 49.9+ MB\n"
     ]
    }
   ],
   "source": [
    "df.select_dtypes(include='object').info()"
   ]
  },
  {
   "cell_type": "markdown",
   "metadata": {},
   "source": [
    "## Identify and Analyze Duplicates\n"
   ]
  },
  {
   "cell_type": "markdown",
   "metadata": {},
   "source": [
    "### Task 1: Identify Duplicate Rows\n",
    "1. Count the number of duplicate rows in the dataset.\n",
    "3. Display the first few duplicate rows to understand their structure.\n"
   ]
  },
  {
   "cell_type": "code",
   "execution_count": 31,
   "metadata": {},
   "outputs": [
    {
     "name": "stdout",
     "output_type": "stream",
     "text": [
      "<class 'pandas.core.series.Series'>\n",
      "65457\n"
     ]
    }
   ],
   "source": [
    "## Write your code here\n",
    "duplicate_rows = df.duplicated()\n",
    "\n",
    "print(type(duplicate_rows))\n",
    "print(len(duplicate_rows))\n",
    "\n",
    "duplicate_rows_df = df.loc[duplicate_rows]\n",
    "print(duplicate_rows_df.head())"
   ]
  },
  {
   "cell_type": "code",
   "execution_count": 29,
   "metadata": {},
   "outputs": [
    {
     "name": "stdout",
     "output_type": "stream",
     "text": [
      "       ResponseId                      MainBranch                 Age  \\\n",
      "65437           1  I am a developer by profession  Under 18 years old   \n",
      "65438           2  I am a developer by profession     35-44 years old   \n",
      "65439           3  I am a developer by profession     45-54 years old   \n",
      "65440           4           I am learning to code     18-24 years old   \n",
      "65441           5  I am a developer by profession     18-24 years old   \n",
      "\n",
      "                Employment RemoteWork   Check  \\\n",
      "65437  Employed, full-time     Remote  Apples   \n",
      "65438  Employed, full-time     Remote  Apples   \n",
      "65439  Employed, full-time     Remote  Apples   \n",
      "65440   Student, full-time        NaN  Apples   \n",
      "65441   Student, full-time        NaN  Apples   \n",
      "\n",
      "                                        CodingActivities  \\\n",
      "65437                                              Hobby   \n",
      "65438  Hobby;Contribute to open-source projects;Other...   \n",
      "65439  Hobby;Contribute to open-source projects;Other...   \n",
      "65440                                                NaN   \n",
      "65441                                                NaN   \n",
      "\n",
      "                                                 EdLevel  \\\n",
      "65437                          Primary/elementary school   \n",
      "65438       Bachelor’s degree (B.A., B.S., B.Eng., etc.)   \n",
      "65439    Master’s degree (M.A., M.S., M.Eng., MBA, etc.)   \n",
      "65440  Some college/university study without earning ...   \n",
      "65441  Secondary school (e.g. American high school, G...   \n",
      "\n",
      "                                               LearnCode  \\\n",
      "65437                             Books / Physical media   \n",
      "65438  Books / Physical media;Colleague;On the job tr...   \n",
      "65439  Books / Physical media;Colleague;On the job tr...   \n",
      "65440  Other online resources (e.g., videos, blogs, f...   \n",
      "65441  Other online resources (e.g., videos, blogs, f...   \n",
      "\n",
      "                                         LearnCodeOnline  ... JobSatPoints_6  \\\n",
      "65437                                                NaN  ...            NaN   \n",
      "65438  Technical documentation;Blogs;Books;Written Tu...  ...            0.0   \n",
      "65439  Technical documentation;Blogs;Books;Written Tu...  ...            NaN   \n",
      "65440  Stack Overflow;How-to videos;Interactive tutorial  ...            NaN   \n",
      "65441  Technical documentation;Blogs;Written Tutorial...  ...            NaN   \n",
      "\n",
      "      JobSatPoints_7 JobSatPoints_8 JobSatPoints_9 JobSatPoints_10  \\\n",
      "65437            NaN            NaN            NaN             NaN   \n",
      "65438            0.0            0.0            0.0             0.0   \n",
      "65439            NaN            NaN            NaN             NaN   \n",
      "65440            NaN            NaN            NaN             NaN   \n",
      "65441            NaN            NaN            NaN             NaN   \n",
      "\n",
      "      JobSatPoints_11           SurveyLength SurveyEase ConvertedCompYearly  \\\n",
      "65437             NaN                    NaN        NaN                 NaN   \n",
      "65438             0.0                    NaN        NaN                 NaN   \n",
      "65439             NaN  Appropriate in length       Easy                 NaN   \n",
      "65440             NaN               Too long       Easy                 NaN   \n",
      "65441             NaN              Too short       Easy                 NaN   \n",
      "\n",
      "      JobSat  \n",
      "65437    NaN  \n",
      "65438    NaN  \n",
      "65439    NaN  \n",
      "65440    NaN  \n",
      "65441    NaN  \n",
      "\n",
      "[5 rows x 114 columns]\n"
     ]
    }
   ],
   "source": [
    "duplicate_rows_df = df.loc[duplicate_rows]\n",
    "print(duplicate_rows_df.head())"
   ]
  },
  {
   "cell_type": "code",
   "execution_count": 37,
   "metadata": {},
   "outputs": [
    {
     "data": {
      "text/plain": [
       "(20, 114)"
      ]
     },
     "execution_count": 37,
     "metadata": {},
     "output_type": "execute_result"
    }
   ],
   "source": [
    "duplicate_rows_df.shape"
   ]
  },
  {
   "cell_type": "markdown",
   "metadata": {},
   "source": [
    "### Task 2: Analyze Characteristics of Duplicates\n",
    "1. Identify duplicate rows based on selected columns such as MainBranch, Employment, and RemoteWork. Analyse which columns frequently contain identical values within these duplicate rows.\n",
    "2. Analyse the characteristics of rows that are duplicates based on a subset of columns, such as MainBranch, Employment, and RemoteWork. Determine which columns frequently have identical values across these rows.\n",
    "   \n"
   ]
  },
  {
   "cell_type": "code",
   "execution_count": 34,
   "metadata": {
    "scrolled": true
   },
   "outputs": [
    {
     "data": {
      "text/plain": [
       "MainBranch\n",
       "I am a developer by profession                                                           12\n",
       "I code primarily as a hobby                                                               3\n",
       "I am not primarily a developer, but I write code sometimes as part of my work/studies     3\n",
       "I am learning to code                                                                     2\n",
       "Name: count, dtype: int64"
      ]
     },
     "execution_count": 34,
     "metadata": {},
     "output_type": "execute_result"
    }
   ],
   "source": [
    "duplicate_rows_df['MainBranch'].value_counts()"
   ]
  },
  {
   "cell_type": "code",
   "execution_count": 35,
   "metadata": {},
   "outputs": [
    {
     "data": {
      "text/plain": [
       "Employment\n",
       "Employed, full-time                                                         10\n",
       "Student, full-time                                                           4\n",
       "Student, full-time;Not employed, but looking for work                        1\n",
       "Independent contractor, freelancer, or self-employed                         1\n",
       "Student, full-time;Employed, part-time                                       1\n",
       "Employed, full-time;Employed, part-time                                      1\n",
       "Employed, full-time;Independent contractor, freelancer, or self-employed     1\n",
       "Retired                                                                      1\n",
       "Name: count, dtype: int64"
      ]
     },
     "execution_count": 35,
     "metadata": {},
     "output_type": "execute_result"
    }
   ],
   "source": [
    "# Employment\n",
    "duplicate_rows_df['Employment'].value_counts()"
   ]
  },
  {
   "cell_type": "code",
   "execution_count": 36,
   "metadata": {},
   "outputs": [
    {
     "data": {
      "text/plain": [
       "RemoteWork\n",
       "Remote                                  9\n",
       "Hybrid (some remote, some in-person)    3\n",
       "In-person                               2\n",
       "Name: count, dtype: int64"
      ]
     },
     "execution_count": 36,
     "metadata": {},
     "output_type": "execute_result"
    }
   ],
   "source": [
    "duplicate_rows_df['RemoteWork'].value_counts()"
   ]
  },
  {
   "cell_type": "code",
   "execution_count": 38,
   "metadata": {},
   "outputs": [
    {
     "name": "stdout",
     "output_type": "stream",
     "text": [
      "Complete duplicates: 20\n",
      "Partial duplicates (MainBranch, Employment, RemoteWork): 64896\n"
     ]
    }
   ],
   "source": [
    "# Instead of checking ALL columns, check specific ones\n",
    "subset_columns = ['MainBranch', 'Employment', 'RemoteWork']\n",
    "duplicate_rows_subset = df.duplicated(subset=subset_columns)\n",
    "duplicate_rows_df_subset = df.loc[duplicate_rows_subset]\n",
    "\n",
    "print(f\"Complete duplicates: {duplicate_rows.sum()}\")\n",
    "print(f\"Partial duplicates (MainBranch, Employment, RemoteWork): {duplicate_rows_subset.sum()}\")"
   ]
  },
  {
   "cell_type": "code",
   "execution_count": 41,
   "metadata": {},
   "outputs": [
    {
     "data": {
      "text/html": [
       "<div>\n",
       "<style scoped>\n",
       "    .dataframe tbody tr th:only-of-type {\n",
       "        vertical-align: middle;\n",
       "    }\n",
       "\n",
       "    .dataframe tbody tr th {\n",
       "        vertical-align: top;\n",
       "    }\n",
       "\n",
       "    .dataframe thead th {\n",
       "        text-align: right;\n",
       "    }\n",
       "</style>\n",
       "<table border=\"1\" class=\"dataframe\">\n",
       "  <thead>\n",
       "    <tr style=\"text-align: right;\">\n",
       "      <th></th>\n",
       "      <th>MainBranch</th>\n",
       "      <th>Employment</th>\n",
       "      <th>RemoteWork</th>\n",
       "    </tr>\n",
       "  </thead>\n",
       "  <tbody>\n",
       "    <tr>\n",
       "      <th>1</th>\n",
       "      <td>I am a developer by profession</td>\n",
       "      <td>Employed, full-time</td>\n",
       "      <td>Remote</td>\n",
       "    </tr>\n",
       "    <tr>\n",
       "      <th>2</th>\n",
       "      <td>I am a developer by profession</td>\n",
       "      <td>Employed, full-time</td>\n",
       "      <td>Remote</td>\n",
       "    </tr>\n",
       "    <tr>\n",
       "      <th>14</th>\n",
       "      <td>I am a developer by profession</td>\n",
       "      <td>Employed, full-time</td>\n",
       "      <td>Hybrid (some remote, some in-person)</td>\n",
       "    </tr>\n",
       "    <tr>\n",
       "      <th>15</th>\n",
       "      <td>I am a developer by profession</td>\n",
       "      <td>Employed, full-time</td>\n",
       "      <td>Hybrid (some remote, some in-person)</td>\n",
       "    </tr>\n",
       "    <tr>\n",
       "      <th>16</th>\n",
       "      <td>I code primarily as a hobby</td>\n",
       "      <td>Student, full-time</td>\n",
       "      <td>NaN</td>\n",
       "    </tr>\n",
       "    <tr>\n",
       "      <th>...</th>\n",
       "      <td>...</td>\n",
       "      <td>...</td>\n",
       "      <td>...</td>\n",
       "    </tr>\n",
       "    <tr>\n",
       "      <th>65452</th>\n",
       "      <td>I am not primarily a developer, but I write co...</td>\n",
       "      <td>Student, full-time;Employed, part-time</td>\n",
       "      <td>In-person</td>\n",
       "    </tr>\n",
       "    <tr>\n",
       "      <th>65453</th>\n",
       "      <td>I am a developer by profession</td>\n",
       "      <td>Employed, full-time;Employed, part-time</td>\n",
       "      <td>Remote</td>\n",
       "    </tr>\n",
       "    <tr>\n",
       "      <th>65454</th>\n",
       "      <td>I am a developer by profession</td>\n",
       "      <td>Employed, full-time;Independent contractor, fr...</td>\n",
       "      <td>Hybrid (some remote, some in-person)</td>\n",
       "    </tr>\n",
       "    <tr>\n",
       "      <th>65455</th>\n",
       "      <td>I am a developer by profession</td>\n",
       "      <td>Employed, full-time</td>\n",
       "      <td>Remote</td>\n",
       "    </tr>\n",
       "    <tr>\n",
       "      <th>65456</th>\n",
       "      <td>I am a developer by profession</td>\n",
       "      <td>Retired</td>\n",
       "      <td>NaN</td>\n",
       "    </tr>\n",
       "  </tbody>\n",
       "</table>\n",
       "<p>64896 rows × 3 columns</p>\n",
       "</div>"
      ],
      "text/plain": [
       "                                              MainBranch  \\\n",
       "1                         I am a developer by profession   \n",
       "2                         I am a developer by profession   \n",
       "14                        I am a developer by profession   \n",
       "15                        I am a developer by profession   \n",
       "16                           I code primarily as a hobby   \n",
       "...                                                  ...   \n",
       "65452  I am not primarily a developer, but I write co...   \n",
       "65453                     I am a developer by profession   \n",
       "65454                     I am a developer by profession   \n",
       "65455                     I am a developer by profession   \n",
       "65456                     I am a developer by profession   \n",
       "\n",
       "                                              Employment  \\\n",
       "1                                    Employed, full-time   \n",
       "2                                    Employed, full-time   \n",
       "14                                   Employed, full-time   \n",
       "15                                   Employed, full-time   \n",
       "16                                    Student, full-time   \n",
       "...                                                  ...   \n",
       "65452             Student, full-time;Employed, part-time   \n",
       "65453            Employed, full-time;Employed, part-time   \n",
       "65454  Employed, full-time;Independent contractor, fr...   \n",
       "65455                                Employed, full-time   \n",
       "65456                                            Retired   \n",
       "\n",
       "                                 RemoteWork  \n",
       "1                                    Remote  \n",
       "2                                    Remote  \n",
       "14     Hybrid (some remote, some in-person)  \n",
       "15     Hybrid (some remote, some in-person)  \n",
       "16                                      NaN  \n",
       "...                                     ...  \n",
       "65452                             In-person  \n",
       "65453                                Remote  \n",
       "65454  Hybrid (some remote, some in-person)  \n",
       "65455                                Remote  \n",
       "65456                                   NaN  \n",
       "\n",
       "[64896 rows x 3 columns]"
      ]
     },
     "execution_count": 41,
     "metadata": {},
     "output_type": "execute_result"
    }
   ],
   "source": [
    "duplicate_rows_df_subset[subset_columns]"
   ]
  },
  {
   "cell_type": "code",
   "execution_count": 42,
   "metadata": {},
   "outputs": [
    {
     "name": "stdout",
     "output_type": "stream",
     "text": [
      "Most common duplicate combinations:\n",
      "MainBranch                                                                             Employment                                                                RemoteWork                          \n",
      "I am a developer by profession                                                         Employed, full-time                                                       Remote                                  5\n",
      "                                                                                                                                                                 Hybrid (some remote, some in-person)    2\n",
      "I am not primarily a developer, but I write code sometimes as part of my work/studies  Employed, full-time                                                       Remote                                  2\n",
      "I am a developer by profession                                                         Employed, full-time;Employed, part-time                                   Remote                                  1\n",
      "                                                                                       Employed, full-time;Independent contractor, freelancer, or self-employed  Hybrid (some remote, some in-person)    1\n",
      "                                                                                       Independent contractor, freelancer, or self-employed                      Remote                                  1\n",
      "I am not primarily a developer, but I write code sometimes as part of my work/studies  Student, full-time;Employed, part-time                                    In-person                               1\n",
      "I code primarily as a hobby                                                            Employed, full-time                                                       In-person                               1\n",
      "dtype: int64\n"
     ]
    }
   ],
   "source": [
    "## Write your code here\n",
    "# 1. Look at combinations of the key columns used for duplicate detection\n",
    "duplicate_combinations = duplicate_rows_df.groupby(['MainBranch', 'Employment', 'RemoteWork']).size().sort_values(ascending=False)\n",
    "print(\"Most common duplicate combinations:\")\n",
    "print(duplicate_combinations.head(10))\n",
    "\n"
   ]
  },
  {
   "cell_type": "code",
   "execution_count": 43,
   "metadata": {},
   "outputs": [
    {
     "name": "stdout",
     "output_type": "stream",
     "text": [
      "\n",
      "=== Analysis of each column in duplicates ===\n",
      "\n",
      "MainBranch in duplicate rows:\n",
      "MainBranch\n",
      "I am a developer by profession                                                           12\n",
      "I code primarily as a hobby                                                               3\n",
      "I am not primarily a developer, but I write code sometimes as part of my work/studies     3\n",
      "I am learning to code                                                                     2\n",
      "Name: count, dtype: int64\n",
      "\n",
      "Employment in duplicate rows:\n",
      "Employment\n",
      "Employed, full-time                                      10\n",
      "Student, full-time                                        4\n",
      "Student, full-time;Not employed, but looking for work     1\n",
      "Independent contractor, freelancer, or self-employed      1\n",
      "Student, full-time;Employed, part-time                    1\n",
      "Name: count, dtype: int64\n",
      "\n",
      "RemoteWork in duplicate rows:\n",
      "RemoteWork\n",
      "Remote                                  9\n",
      "Hybrid (some remote, some in-person)    3\n",
      "In-person                               2\n",
      "Name: count, dtype: int64\n"
     ]
    }
   ],
   "source": [
    "# 2. For each column, see what values appear most in duplicates\n",
    "print(\"\\n=== Analysis of each column in duplicates ===\")\n",
    "for col in ['MainBranch', 'Employment', 'RemoteWork']:\n",
    "    print(f\"\\n{col} in duplicate rows:\")\n",
    "    print(duplicate_rows_df[col].value_counts().head())\n"
   ]
  },
  {
   "cell_type": "code",
   "execution_count": 44,
   "metadata": {},
   "outputs": [
    {
     "name": "stdout",
     "output_type": "stream",
     "text": [
      "\n",
      "=== Other columns that are often identical in duplicate groups ===\n",
      "\n",
      "Group: ('I am a developer by profession', 'Employed, full-time', 'Hybrid (some remote, some in-person)') (2 rows)\n",
      "  Check: identical values\n",
      "  EdLevel: identical values\n",
      "  LearnCodeOnline: identical values\n",
      "  OrgSize: identical values\n",
      "  PurchaseInfluence: identical values\n",
      "  BuyNewTool: identical values\n",
      "  CompTotal: identical values\n",
      "  LanguageWantToWorkWith: identical values\n",
      "  LanguageAdmired: identical values\n",
      "  DatabaseWantToWorkWith: identical values\n",
      "  DatabaseAdmired: identical values\n",
      "  PlatformWantToWorkWith: identical values\n",
      "  PlatformAdmired: identical values\n",
      "  WebframeHaveWorkedWith: identical values\n",
      "  MiscTechHaveWorkedWith: identical values\n",
      "  MiscTechWantToWorkWith: identical values\n",
      "  MiscTechAdmired: identical values\n",
      "  ToolsTechHaveWorkedWith: identical values\n",
      "  ToolsTechWantToWorkWith: identical values\n",
      "  ToolsTechAdmired: identical values\n",
      "  NEWCollabToolsWantToWorkWith: identical values\n",
      "  NEWCollabToolsAdmired: identical values\n",
      "  OpSysProfessional use: identical values\n",
      "  OfficeStackAsyncHaveWorkedWith: identical values\n",
      "  OfficeStackSyncWantToWorkWith: identical values\n",
      "  OfficeStackSyncAdmired: identical values\n",
      "  SOAccount: identical values\n",
      "  AISent: identical values\n",
      "  AIThreat: identical values\n",
      "  AIEthics: identical values\n",
      "  AIChallenges: identical values\n",
      "  ICorPM: identical values\n",
      "  WorkExp: identical values\n",
      "  Frequency_1: identical values\n",
      "  Frequency_2: identical values\n",
      "  Frequency_3: identical values\n",
      "  TimeSearching: identical values\n",
      "  TimeAnswering: identical values\n",
      "  Frustration: identical values\n",
      "  ProfessionalCloud: identical values\n",
      "  ProfessionalQuestion: identical values\n",
      "  Industry: identical values\n",
      "  JobSatPoints_1: identical values\n",
      "  JobSatPoints_4: identical values\n",
      "  JobSatPoints_5: identical values\n",
      "  JobSatPoints_6: identical values\n",
      "  JobSatPoints_7: identical values\n",
      "  JobSatPoints_8: identical values\n",
      "  JobSatPoints_9: identical values\n",
      "  JobSatPoints_10: identical values\n",
      "  JobSatPoints_11: identical values\n",
      "  SurveyLength: identical values\n",
      "  JobSat: identical values\n",
      "\n",
      "Group: ('I am a developer by profession', 'Employed, full-time', 'Remote') (5 rows)\n",
      "  Check: identical values\n",
      "  PurchaseInfluence: identical values\n",
      "  BuildvsBuy: identical values\n",
      "  CompTotal: identical values\n",
      "  OfficeStackAsyncWantToWorkWith: identical values\n",
      "  AISearchDevHaveWorkedWith: identical values\n",
      "  AISearchDevWantToWorkWith: identical values\n",
      "  AISearchDevAdmired: identical values\n",
      "  AIBen: identical values\n",
      "  AIAcc: identical values\n",
      "  AIComplex: identical values\n",
      "  AIToolCurrently Using: identical values\n",
      "  AIToolInterested in Using: identical values\n",
      "  AIToolNot interested in Using: identical values\n",
      "  AINextMore integrated: identical values\n",
      "  AIThreat: identical values\n",
      "  AIEthics: identical values\n",
      "  AIChallenges: identical values\n",
      "  ICorPM: identical values\n",
      "  Frequency_2: identical values\n",
      "  TimeAnswering: identical values\n",
      "  Frustration: identical values\n",
      "  ProfessionalQuestion: identical values\n",
      "  JobSatPoints_1: identical values\n",
      "  JobSatPoints_4: identical values\n",
      "  JobSatPoints_5: identical values\n",
      "  JobSatPoints_6: identical values\n",
      "  JobSatPoints_7: identical values\n",
      "  JobSatPoints_8: identical values\n",
      "  JobSatPoints_9: identical values\n",
      "  JobSatPoints_10: identical values\n",
      "  JobSatPoints_11: identical values\n",
      "  SurveyLength: identical values\n",
      "  ConvertedCompYearly: identical values\n",
      "\n",
      "Group: ('I am not primarily a developer, but I write code sometimes as part of my work/studies', 'Employed, full-time', 'Remote') (2 rows)\n",
      "  Check: identical values\n",
      "  TechDoc: identical values\n",
      "  YearsCode: identical values\n",
      "  DevType: identical values\n",
      "  OrgSize: identical values\n",
      "  PurchaseInfluence: identical values\n",
      "  BuyNewTool: identical values\n",
      "  BuildvsBuy: identical values\n",
      "  TechEndorse: identical values\n",
      "  Currency: identical values\n",
      "  DatabaseHaveWorkedWith: identical values\n",
      "  DatabaseWantToWorkWith: identical values\n",
      "  DatabaseAdmired: identical values\n",
      "  EmbeddedHaveWorkedWith: identical values\n",
      "  EmbeddedWantToWorkWith: identical values\n",
      "  EmbeddedAdmired: identical values\n",
      "  MiscTechHaveWorkedWith: identical values\n",
      "  MiscTechWantToWorkWith: identical values\n",
      "  MiscTechAdmired: identical values\n",
      "  ToolsTechHaveWorkedWith: identical values\n",
      "  ToolsTechWantToWorkWith: identical values\n",
      "  ToolsTechAdmired: identical values\n",
      "  OfficeStackAsyncHaveWorkedWith: identical values\n",
      "  OfficeStackAsyncWantToWorkWith: identical values\n",
      "  OfficeStackAsyncAdmired: identical values\n",
      "  SOVisitFreq: identical values\n",
      "  SOPartFreq: identical values\n",
      "  AISelect: identical values\n",
      "  TBranch: identical values\n"
     ]
    }
   ],
   "source": [
    "\n",
    "# 3. Look at what other columns also have identical values within duplicate groups\n",
    "# Group by the duplicate-defining columns and see which other columns are also identical\n",
    "duplicate_groups = duplicate_rows_df.groupby(['MainBranch', 'Employment', 'RemoteWork'])\n",
    "\n",
    "print(\"\\n=== Other columns that are often identical in duplicate groups ===\")\n",
    "for name, group in duplicate_groups:\n",
    "    if len(group) > 1:  # Only look at actual duplicate groups\n",
    "        print(f\"\\nGroup: {name} ({len(group)} rows)\")\n",
    "        # Check which other columns have identical values across this duplicate group\n",
    "        for col in df.columns:\n",
    "            if col not in ['MainBranch', 'Employment', 'RemoteWork']:\n",
    "                unique_vals = group[col].nunique()\n",
    "                if unique_vals == 1:  # All values in this column are identical\n",
    "                    print(f\"  {col}: identical values\")"
   ]
  },
  {
   "cell_type": "code",
   "execution_count": 72,
   "metadata": {},
   "outputs": [
    {
     "name": "stdout",
     "output_type": "stream",
     "text": [
      "ResponseId: [51198 44085]\n",
      "Age: ['25-34 years old' '35-44 years old']\n",
      "CodingActivities: ['Hobby;Contribute to open-source projects' 'I don’t code outside of work']\n",
      "LearnCode: ['Books / Physical media;Online Courses or Certification'\n",
      " 'On the job training;Other online resources (e.g., videos, blogs, forum, online community);School (i.e., University, College, etc);Online Courses or Certification']\n",
      "YearsCode: ['7' '22']\n",
      "YearsCodePro: ['3' '20']\n",
      "DevType: ['Data engineer' 'Developer, full-stack']\n",
      "BuildvsBuy: ['Is ready-to-go but also customizable for growth and targeted use cases'\n",
      " 'Out-of-the-box is ready to go with little need for customization']\n",
      "TechEndorse: ['APIs;Customization;Integrated developer community;Connected to an open source project'\n",
      " 'Integrated developer community;Reputation for quality and excellence']\n",
      "Country: ['Egypt' 'United States of America']\n",
      "Currency: ['EGP\\tEgyptian pound' 'USD\\tUnited States dollar']\n",
      "LanguageHaveWorkedWith: ['Python;Scala;SQL;Swift'\n",
      " 'HTML/CSS;JavaScript;PowerShell;Python;SQL;TypeScript']\n",
      "DatabaseHaveWorkedWith: ['Elasticsearch;Microsoft SQL Server;PostgreSQL'\n",
      " 'Cosmos DB;Databricks SQL;Microsoft SQL Server']\n",
      "PlatformHaveWorkedWith: ['Amazon Web Services (AWS)' 'Amazon Web Services (AWS);Microsoft Azure']\n",
      "NEWCollabToolsHaveWorkedWith: ['IntelliJ IDEA;Visual Studio Code' 'Notepad++;Visual Studio Code']\n",
      "OpSysPersonal use: ['Debian;Ubuntu' 'Windows']\n",
      "OfficeStackSyncHaveWorkedWith: ['Microsoft Teams' 'Microsoft Teams;Zoom']\n",
      "NEWSOSites: ['Stack Overflow' 'Stack Overflow;Stack Exchange']\n",
      "SOVisitFreq: ['Multiple times per day' 'A few times per month or weekly']\n",
      "SOPartFreq: ['A few times per month or weekly' 'Less than once per month or monthly']\n",
      "SOHow: ['Quickly finding code solutions;Showcase expertise with code solutions;Engage with community by commenting on questions and answers or voting on questions and answers'\n",
      " 'Quickly finding code solutions']\n",
      "SOComm: ['Yes, somewhat' 'No, not really']\n",
      "AISelect: ['No, but I plan to soon' \"No, and I don't plan to\"]\n",
      "TBranch: ['Yes' 'No']\n",
      "SurveyEase: ['Neither easy nor difficult' 'Easy']\n"
     ]
    }
   ],
   "source": [
    "# Look at the few columns that are NOT identical\n",
    "group = duplicate_rows_df[\n",
    "    (duplicate_rows_df['MainBranch'] == 'I am a developer by profession') & \n",
    "    (duplicate_rows_df['Employment'] == 'Employed, full-time') & \n",
    "    (duplicate_rows_df['RemoteWork'] == 'Hybrid (some remote, some in-person)')\n",
    "]\n",
    "\n",
    "# Check which columns are different\n",
    "for col in df.columns:\n",
    "    if group[col].nunique() > 1:\n",
    "        print(f\"{col}: {group[col].values}\")"
   ]
  },
  {
   "cell_type": "code",
   "execution_count": 49,
   "metadata": {},
   "outputs": [
    {
     "name": "stdout",
     "output_type": "stream",
     "text": [
      "ResponseId: [51198 44085]\n",
      "Age: ['25-34 years old' '35-44 years old']\n",
      "CodingActivities: ['Hobby;Contribute to open-source projects' 'I don’t code outside of work']\n",
      "LearnCode: ['Books / Physical media;Online Courses or Certification'\n",
      " 'On the job training;Other online resources (e.g., videos, blogs, forum, online community);School (i.e., University, College, etc);Online Courses or Certification']\n",
      "YearsCode: ['7' '22']\n",
      "YearsCodePro: ['3' '20']\n",
      "DevType: ['Data engineer' 'Developer, full-stack']\n",
      "BuildvsBuy: ['Is ready-to-go but also customizable for growth and targeted use cases'\n",
      " 'Out-of-the-box is ready to go with little need for customization']\n",
      "TechEndorse: ['APIs;Customization;Integrated developer community;Connected to an open source project'\n",
      " 'Integrated developer community;Reputation for quality and excellence']\n",
      "Country: ['Egypt' 'United States of America']\n",
      "Currency: ['EGP\\tEgyptian pound' 'USD\\tUnited States dollar']\n",
      "LanguageHaveWorkedWith: ['Python;Scala;SQL;Swift'\n",
      " 'HTML/CSS;JavaScript;PowerShell;Python;SQL;TypeScript']\n",
      "DatabaseHaveWorkedWith: ['Elasticsearch;Microsoft SQL Server;PostgreSQL'\n",
      " 'Cosmos DB;Databricks SQL;Microsoft SQL Server']\n",
      "PlatformHaveWorkedWith: ['Amazon Web Services (AWS)' 'Amazon Web Services (AWS);Microsoft Azure']\n",
      "NEWCollabToolsHaveWorkedWith: ['IntelliJ IDEA;Visual Studio Code' 'Notepad++;Visual Studio Code']\n",
      "OpSysPersonal use: ['Debian;Ubuntu' 'Windows']\n",
      "OfficeStackSyncHaveWorkedWith: ['Microsoft Teams' 'Microsoft Teams;Zoom']\n",
      "NEWSOSites: ['Stack Overflow' 'Stack Overflow;Stack Exchange']\n",
      "SOVisitFreq: ['Multiple times per day' 'A few times per month or weekly']\n",
      "SOPartFreq: ['A few times per month or weekly' 'Less than once per month or monthly']\n",
      "SOHow: ['Quickly finding code solutions;Showcase expertise with code solutions;Engage with community by commenting on questions and answers or voting on questions and answers'\n",
      " 'Quickly finding code solutions']\n",
      "SOComm: ['Yes, somewhat' 'No, not really']\n",
      "AISelect: ['No, but I plan to soon' \"No, and I don't plan to\"]\n",
      "TBranch: ['Yes' 'No']\n",
      "SurveyEase: ['Neither easy nor difficult' 'Easy']\n"
     ]
    }
   ],
   "source": [
    "# Look at the few columns that are NOT identical\n",
    "group = duplicate_rows_df[\n",
    "    (duplicate_rows_df['MainBranch'] == 'I am a developer by profession') & \n",
    "    (duplicate_rows_df['Employment'] == 'Employed, full-time') & \n",
    "    (duplicate_rows_df['RemoteWork'] == 'Hybrid (some remote, some in-person)')\n",
    "]\n",
    "\n",
    "# Check which columns are different\n",
    "for col in df.columns:\n",
    "    if group[col].nunique() > 1:\n",
    "        print(f\"{col}: {group[col].values}\")"
   ]
  },
  {
   "cell_type": "code",
   "execution_count": 73,
   "metadata": {},
   "outputs": [
    {
     "data": {
      "text/plain": [
       "OfficeStackSyncHaveWorkedWith\n",
       "Microsoft Teams                                                             5764\n",
       "Discord                                                                     1610\n",
       "Microsoft Teams;Slack                                                       1576\n",
       "Slack                                                                       1508\n",
       "Slack;Zoom                                                                  1403\n",
       "                                                                            ... \n",
       "Discord;Mattermost;Microsoft Teams;Skype;Slack;Whatsapp;Zoom                   1\n",
       "Cisco Webex Teams;Discord;Jitsi;Microsoft Teams;Rocketchat                     1\n",
       "Discord;Google Chat;Google Meet;Skype;Slack;Telegram                           1\n",
       "Cisco Webex Teams;Discord;Google Chat;Google Meet;Skype;Slack;Wickr;Zoom       1\n",
       "Cisco Webex Teams;Google Chat;Google Meet;Skype;Slack;Whatsapp;Zoom            1\n",
       "Name: count, Length: 5049, dtype: int64"
      ]
     },
     "execution_count": 73,
     "metadata": {},
     "output_type": "execute_result"
    }
   ],
   "source": [
    "\n",
    "df['OfficeStackSyncHaveWorkedWith'].value_counts()"
   ]
  },
  {
   "cell_type": "code",
   "execution_count": 48,
   "metadata": {},
   "outputs": [
    {
     "data": {
      "text/plain": [
       "Check\n",
       "Apples    65457\n",
       "Name: count, dtype: int64"
      ]
     },
     "execution_count": 48,
     "metadata": {},
     "output_type": "execute_result"
    }
   ],
   "source": [
    "df['Check'].value_counts()"
   ]
  },
  {
   "cell_type": "code",
   "execution_count": 76,
   "metadata": {
    "scrolled": true
   },
   "outputs": [
    {
     "name": "stdout",
     "output_type": "stream",
     "text": [
      "20\n"
     ]
    }
   ],
   "source": [
    "ri = df['ResponseId'].loc[df['ResponseId'].duplicated()]\n",
    "# print(ri.value_counts()) \n",
    "print(len(ri))"
   ]
  },
  {
   "cell_type": "code",
   "execution_count": 69,
   "metadata": {},
   "outputs": [
    {
     "data": {
      "text/plain": [
       "(507, 113)"
      ]
     },
     "execution_count": 69,
     "metadata": {},
     "output_type": "execute_result"
    }
   ],
   "source": [
    "df_2 = df.drop('ResponseId', axis=1)\n",
    "df_2_duplets = df_2.loc[df_2.duplicated()]\n",
    "\n",
    "df_2_duplets.shape"
   ]
  },
  {
   "cell_type": "code",
   "execution_count": 70,
   "metadata": {},
   "outputs": [
    {
     "data": {
      "text/plain": [
       "EdLevel\n",
       "Bachelor’s degree (B.A., B.S., B.Eng., etc.)                                          24947\n",
       "Master’s degree (M.A., M.S., M.Eng., MBA, etc.)                                       15560\n",
       "Some college/university study without earning a degree                                 7656\n",
       "Secondary school (e.g. American high school, German Realschule or Gymnasium, etc.)     5795\n",
       "Professional degree (JD, MD, Ph.D, Ed.D, etc.)                                         2972\n",
       "Associate degree (A.A., A.S., etc.)                                                    1793\n",
       "Primary/elementary school                                                              1148\n",
       "Something else                                                                          932\n",
       "Name: count, dtype: int64"
      ]
     },
     "execution_count": 70,
     "metadata": {},
     "output_type": "execute_result"
    }
   ],
   "source": [
    "df['EdLevel'].value_counts()"
   ]
  },
  {
   "cell_type": "code",
   "execution_count": 77,
   "metadata": {
    "scrolled": true
   },
   "outputs": [],
   "source": [
    "# YearsCode\n",
    "# df['YearsCode'].value_counts()"
   ]
  },
  {
   "cell_type": "markdown",
   "metadata": {},
   "source": [
    "### Task 3: Visualize Duplicates Distribution\n",
    "1. Create visualizations to show the distribution of duplicates across different categories.\n",
    "2. Use bar charts or pie charts to represent the distribution of duplicates by Country and Employment.\n"
   ]
  },
  {
   "cell_type": "code",
   "execution_count": 94,
   "metadata": {},
   "outputs": [
    {
     "data": {
      "text/plain": [
       "MainBranch                                                Employment                                                                                                                                                                                                            RemoteWork                          \n",
       "I am a developer by profession                            Employed, full-time                                                                                                                                                                                                   Hybrid (some remote, some in-person)    15288\n",
       "                                                                                                                                                                                                                                                                                Remote                                  12196\n",
       "                                                                                                                                                                                                                                                                                In-person                                7118\n",
       "                                                          Independent contractor, freelancer, or self-employed                                                                                                                                                                  Remote                                   2815\n",
       "                                                          Employed, full-time;Independent contractor, freelancer, or self-employed                                                                                                                                              Remote                                   1754\n",
       "                                                                                                                                                                                                                                                                                                                        ...  \n",
       "I used to be a developer by profession, but no longer am  Employed, full-time;Student, full-time                                                                                                                                                                                Hybrid (some remote, some in-person)        1\n",
       "                                                                                                                                                                                                                                                                                Remote                                      1\n",
       "                                                          Employed, full-time;Student, full-time;Independent contractor, freelancer, or self-employed                                                                                                                           Hybrid (some remote, some in-person)        1\n",
       "                                                          Employed, full-time;Student, full-time;Not employed, but looking for work;Independent contractor, freelancer, or self-employed;Not employed, and not looking for work;Student, part-time;Employed, part-time;Retired  Hybrid (some remote, some in-person)        1\n",
       "                                                          Employed, full-time;Student, part-time;Employed, part-time                                                                                                                                                            Hybrid (some remote, some in-person)        1\n",
       "Length: 449, dtype: int64"
      ]
     },
     "execution_count": 94,
     "metadata": {},
     "output_type": "execute_result"
    }
   ],
   "source": [
    "combinations = \\\n",
    "df.groupby(['MainBranch', 'Employment', 'RemoteWork']).size().\\\n",
    "sort_values(ascending=False)\n",
    "\n",
    "combinations"
   ]
  },
  {
   "cell_type": "code",
   "execution_count": 90,
   "metadata": {},
   "outputs": [
    {
     "data": {
      "image/png": "[encoded data removed]",
      "text/plain": [
       "<Figure size 800x500 with 1 Axes>"
      ]
     },
     "metadata": {},
     "output_type": "display_data"
    }
   ],
   "source": [
    "## Write your code here\n",
    "\n",
    "df['MainBranch'].value_counts().plot.bar(edgecolor='black', figsize=(8,5))\n",
    "plt.grid()\n",
    "plt.xticks(rotation=90)\n",
    "plt.show()"
   ]
  },
  {
   "cell_type": "code",
   "execution_count": 90,
   "metadata": {},
   "outputs": [
    {
     "data": {
      "image/png": "[encoded data removed]",
      "text/plain": [
       "<Figure size 800x500 with 1 Axes>"
      ]
     },
     "metadata": {},
     "output_type": "display_data"
    }
   ],
   "source": [
    "## Write your code here\n",
    "\n",
    "df['MainBranch'].value_counts().plot.bar(edgecolor='black', figsize=(8,5))\n",
    "plt.grid()\n",
    "plt.xticks(rotation=90)\n",
    "plt.show()"
   ]
  },
  {
   "cell_type": "code",
   "execution_count": 97,
   "metadata": {},
   "outputs": [
    {
     "data": {
      "text/plain": [
       "110"
      ]
     },
     "execution_count": 97,
     "metadata": {},
     "output_type": "execute_result"
    }
   ],
   "source": [
    "len(df['Employment'].unique())"
   ]
  },
  {
   "cell_type": "code",
   "execution_count": 107,
   "metadata": {},
   "outputs": [
    {
     "data": {
      "image/png": "[encoded data removed]",
      "text/plain": [
       "<Figure size 800x500 with 1 Axes>"
      ]
     },
     "metadata": {},
     "output_type": "display_data"
    }
   ],
   "source": [
    "df['Employment'].value_counts().sort_values(ascending=False)[:10].plot.bar(edgecolor='black', figsize=(8,5))\n",
    "plt.grid()\n",
    "plt.xticks(rotation=90)\n",
    "plt.show()"
   ]
  },
  {
   "cell_type": "code",
   "execution_count": 98,
   "metadata": {
    "scrolled": true
   },
   "outputs": [
    {
     "data": {
      "image/png": "[encoded data removed]",
      "text/plain": [
       "<Figure size 800x500 with 1 Axes>"
      ]
     },
     "metadata": {},
     "output_type": "display_data"
    }
   ],
   "source": [
    "\n",
    "df['Age'].value_counts().plot.bar(edgecolor='black', figsize=(8,5))\n",
    "plt.grid()\n",
    "plt.xticks(rotation=90)\n",
    "plt.show()"
   ]
  },
  {
   "cell_type": "code",
   "execution_count": 106,
   "metadata": {},
   "outputs": [
    {
     "data": {
      "image/png": "[encoded data removed]",
      "text/plain": [
       "<Figure size 800x500 with 1 Axes>"
      ]
     },
     "metadata": {},
     "output_type": "display_data"
    }
   ],
   "source": [
    "df['Country'].value_counts().sort_values(ascending\n",
    "=False)[:10].plot.bar(edgecolor='black', figsize=(8,5))\n",
    "plt.grid()\n",
    "plt.xticks(rotation=90)\n",
    "plt.show()"
   ]
  },
  {
   "cell_type": "code",
   "execution_count": 49,
   "metadata": {},
   "outputs": [
    {
     "name": "stdout",
     "output_type": "stream",
     "text": [
      "ResponseId: [51198 44085]\n",
      "Age: ['25-34 years old' '35-44 years old']\n",
      "CodingActivities: ['Hobby;Contribute to open-source projects' 'I don’t code outside of work']\n",
      "LearnCode: ['Books / Physical media;Online Courses or Certification'\n",
      " 'On the job training;Other online resources (e.g., videos, blogs, forum, online community);School (i.e., University, College, etc);Online Courses or Certification']\n",
      "YearsCode: ['7' '22']\n",
      "YearsCodePro: ['3' '20']\n",
      "DevType: ['Data engineer' 'Developer, full-stack']\n",
      "BuildvsBuy: ['Is ready-to-go but also customizable for growth and targeted use cases'\n",
      " 'Out-of-the-box is ready to go with little need for customization']\n",
      "TechEndorse: ['APIs;Customization;Integrated developer community;Connected to an open source project'\n",
      " 'Integrated developer community;Reputation for quality and excellence']\n",
      "Country: ['Egypt' 'United States of America']\n",
      "Currency: ['EGP\\tEgyptian pound' 'USD\\tUnited States dollar']\n",
      "LanguageHaveWorkedWith: ['Python;Scala;SQL;Swift'\n",
      " 'HTML/CSS;JavaScript;PowerShell;Python;SQL;TypeScript']\n",
      "DatabaseHaveWorkedWith: ['Elasticsearch;Microsoft SQL Server;PostgreSQL'\n",
      " 'Cosmos DB;Databricks SQL;Microsoft SQL Server']\n",
      "PlatformHaveWorkedWith: ['Amazon Web Services (AWS)' 'Amazon Web Services (AWS);Microsoft Azure']\n",
      "NEWCollabToolsHaveWorkedWith: ['IntelliJ IDEA;Visual Studio Code' 'Notepad++;Visual Studio Code']\n",
      "OpSysPersonal use: ['Debian;Ubuntu' 'Windows']\n",
      "OfficeStackSyncHaveWorkedWith: ['Microsoft Teams' 'Microsoft Teams;Zoom']\n",
      "NEWSOSites: ['Stack Overflow' 'Stack Overflow;Stack Exchange']\n",
      "SOVisitFreq: ['Multiple times per day' 'A few times per month or weekly']\n",
      "SOPartFreq: ['A few times per month or weekly' 'Less than once per month or monthly']\n",
      "SOHow: ['Quickly finding code solutions;Showcase expertise with code solutions;Engage with community by commenting on questions and answers or voting on questions and answers'\n",
      " 'Quickly finding code solutions']\n",
      "SOComm: ['Yes, somewhat' 'No, not really']\n",
      "AISelect: ['No, but I plan to soon' \"No, and I don't plan to\"]\n",
      "TBranch: ['Yes' 'No']\n",
      "SurveyEase: ['Neither easy nor difficult' 'Easy']\n"
     ]
    }
   ],
   "source": [
    "# Look at the few columns that are NOT identical\n",
    "group = duplicate_rows_df[\n",
    "    (duplicate_rows_df['MainBranch'] == 'I am a developer by profession') & \n",
    "    (duplicate_rows_df['Employment'] == 'Employed, full-time') & \n",
    "    (duplicate_rows_df['RemoteWork'] == 'Hybrid (some remote, some in-person)')\n",
    "]\n",
    "\n",
    "# Check which columns are different\n",
    "for col in df.columns:\n",
    "    if group[col].nunique() > 1:\n",
    "        print(f\"{col}: {group[col].values}\")"
   ]
  },
  {
   "cell_type": "markdown",
   "metadata": {},
   "source": [
    "### Task 4: Strategic Removal of Duplicates\n",
    "1. Decide which columns are critical for defining uniqueness in the dataset.\n",
    "2. Remove duplicates based on a subset of columns if complete row duplication is not a good criterion.\n"
   ]
  },
  {
   "cell_type": "code",
   "execution_count": 74,
   "metadata": {},
   "outputs": [
    {
     "name": "stdout",
     "output_type": "stream",
     "text": [
      "Duplicates based on identity columns: 53316\n"
     ]
    }
   ],
   "source": [
    "## Write your code here\n",
    "# These likely define a unique respondent\n",
    "identity_cols = ['Country', 'Age', 'Employment', 'RemoteWork', 'MainBranch']\n",
    "\n",
    "# Check uniqueness with these columns\n",
    "identity_duplicates = df.duplicated(subset=identity_cols)\n",
    "print(f\"Duplicates based on identity columns: {identity_duplicates.sum()}\")"
   ]
  },
  {
   "cell_type": "code",
   "execution_count": 75,
   "metadata": {},
   "outputs": [
    {
     "name": "stdout",
     "output_type": "stream",
     "text": [
      "Duplicates based on professional profile: 15758\n"
     ]
    }
   ],
   "source": [
    "# These define professional uniqueness\n",
    "professional_cols = ['MainBranch', 'Employment', 'DevType', 'YearsCodePro', \n",
    "                     'OrgSize', 'Industry', 'Country']\n",
    "\n",
    "prof_duplicates = df.duplicated(subset=professional_cols)\n",
    "print(f\"Duplicates based on professional profile: {prof_duplicates.sum()}\")"
   ]
  },
  {
   "cell_type": "markdown",
   "metadata": {},
   "source": [
    "## Verify and Document Duplicate Removal Process\n"
   ]
  },
  {
   "cell_type": "markdown",
   "metadata": {},
   "source": [
    "### Task 5: Documentation\n",
    "1. Document the process of identifying and removing duplicates.\n"
   ]
  },
  {
   "cell_type": "raw",
   "metadata": {},
   "source": [
    "# Write your explanation here"
   ]
  },
  {
   "cell_type": "markdown",
   "metadata": {},
   "source": [
    "2. Explain the reasoning behind selecting specific columns for identifying and removing duplicates.\n"
   ]
  },
  {
   "cell_type": "markdown",
   "metadata": {},
   "source": [
    "# Duplicate Analysis and Strategic Removal Explanation\n",
    "\n",
    "## Task 4: Strategic Removal of Duplicates\n",
    "\n",
    "### Approach: Identity-Based Deduplication\n",
    "\n",
    "For this analysis, I chose to define duplicate records based on **core identity columns** that would uniquely identify a survey respondent in a real-world context.\n",
    "\n",
    "### Selected Identity Columns\n",
    "```python\n",
    "identity_cols = ['Country', 'Age', 'Employment', 'RemoteWork', 'MainBranch']\n",
    "```\n",
    "\n",
    "### Rationale for Column Selection\n",
    "\n",
    "**Why these columns define uniqueness:**\n",
    "- **Country**: Geographic location of respondent\n",
    "- **Age**: Age group (18-24, 25-34, etc.)\n",
    "- **Employment**: Employment status (full-time, student, etc.)\n",
    "- **RemoteWork**: Work arrangement (remote, hybrid, in-person)\n",
    "- **MainBranch**: Professional role (developer, designer, etc.)\n",
    "\n",
    "**Why this combination makes sense:**\n",
    "These five columns together create a demographic and professional profile that would be unlikely to be identical for different individuals, while still being broad enough to capture meaningful categories.\n",
    "\n",
    "### Results\n",
    "\n",
    "```\n",
    "Original dataset: 65,457 rows\n",
    "Duplicates based on identity columns: 53,316 rows\n",
    "Remaining unique records: 12,141 rows\n",
    "```\n",
    "\n",
    "### Interpretation\n",
    "\n",
    "The high number of duplicates (81.4% of the dataset) indicates that:\n",
    "\n",
    "1. **Expected categorical overlap**: With limited categories in each column, many respondents naturally share the same demographic profile\n",
    "2. **Common professional patterns**: Certain combinations (e.g., \"25-34 year old full-time developer from US working hybrid\") are very common in tech surveys\n",
    "3. **Survey population clustering**: The developer community tends to cluster around specific demographic and professional characteristics\n",
    "\n",
    "### Decision Justification\n",
    "\n",
    "**This approach is appropriate because:**\n",
    "- It preserves data quality by removing redundant demographic profiles\n",
    "- It maintains one representative record for each unique identity combination\n",
    "- It reduces dataset size while preserving analytical value\n",
    "- It focuses on substantive differences rather than minor response variations\n",
    "\n",
    "**Alternative considered:**\n",
    "Complete row deduplication only removed 20 records (0.03%), which would retain excessive redundancy for demographic analysis.\n",
    "\n",
    "## Alternative Approach: Professional Profile Deduplication\n",
    "\n",
    "### Selected Professional Columns\n",
    "```python\n",
    "professional_cols = ['MainBranch', 'Employment', 'DevType', 'YearsCodePro', \n",
    "                     'OrgSize', 'Industry', 'Country']\n",
    "```\n",
    "\n",
    "### Results\n",
    "```\n",
    "Duplicates based on professional profile: 15,758 rows\n",
    "Remaining unique professional profiles: 49,699 rows\n",
    "```\n",
    "\n",
    "### Reasoning for Professional Profile Approach\n",
    "\n",
    "**Why these columns define professional uniqueness:**\n",
    "- **MainBranch**: Primary professional role (Developer, Designer, etc.)\n",
    "- **Employment**: Employment status and type\n",
    "- **DevType**: Specific developer specialization (Full-stack, Frontend, etc.)\n",
    "- **YearsCodePro**: Professional coding experience level\n",
    "- **OrgSize**: Company size context\n",
    "- **Industry**: Business sector\n",
    "- **Country**: Geographic/economic context\n",
    "\n",
    "**Advantages of this approach:**\n",
    "1. **Career-focused analysis**: Preserves records that represent distinct professional paths\n",
    "2. **Lower deduplication rate**: Only 24.1% duplicates vs 81.4% with identity columns\n",
    "3. **Maintains demographic diversity**: People of different ages/backgrounds in same professional roles are preserved\n",
    "4. **Business relevance**: More appropriate for workplace/career-related survey analysis\n",
    "\n",
    "**When to use this approach:**\n",
    "- Analyzing career progression patterns\n",
    "- Studying professional development trends\n",
    "- Examining industry-specific behaviors\n",
    "- Workplace satisfaction analysis\n",
    "\n",
    "### Comparison of Approaches\n",
    "\n",
    "| Approach | Duplicates Removed | Remaining Records | Use Case |\n",
    "|----------|-------------------|-------------------|----------|\n",
    "| Identity-based | 53,316 (81.4%) | 12,141 | Demographic analysis |\n",
    "| Professional-based | 15,758 (24.1%) | 49,699 | Career/workplace analysis |\n",
    "| Complete row | 20 (0.03%) | 65,437 | Data quality only |\n",
    "\n",
    "### Conclusion\n",
    "\n",
    "The choice between identity-based and professional-based deduplication depends on the analytical objective:\n",
    "- **Identity-based**: Best for demographic studies where age, location, and work arrangement matter\n",
    "- **Professional-based**: Best for career and workplace studies where professional context is primary\n",
    "\n",
    "Both approaches are valid strategic choices for different analytical purposes."
   ]
  },
  {
   "cell_type": "raw",
   "metadata": {},
   "source": [
    "# Write your explanation here"
   ]
  },
  {
   "cell_type": "code",
   "execution_count": null,
   "metadata": {},
   "outputs": [],
   "source": []
  },
  {
   "cell_type": "markdown",
   "metadata": {},
   "source": [
    "### Summary and Next Steps\n",
    "**In this lab, you focused on identifying and analyzing duplicate rows within the dataset.**\n",
    "\n",
    "- You employed various techniques to explore the nature of duplicates and applied strategic methods for their removal.\n",
    "- For additional analysis, consider investigating the impact of duplicates on specific analyses and how their removal affects the results.\n",
    "- This version of the lab is more focused on duplicate analysis and handling, providing a structured approach to deal with duplicates in a dataset effectively.\n"
   ]
  },
  {
   "cell_type": "markdown",
   "metadata": {},
   "source": [
    "<!--\n",
    "## Change Log\n",
    "|Date (YYYY-MM-DD)|Version|Changed By|Change Description|\n",
    "|-|-|-|-|\n",
    "|2024-11- 05|1.3|Madhusudhan Moole|Updated lab|\n",
    "|2024-10-28|1.2|Madhusudhan Moole|Updated lab|\n",
    "|2024-09-24|1.1|Madhusudhan Moole|Updated lab|\n",
    "|2024-09-23|1.0|Raghul Ramesh|Created lab|\n",
    "--!>\n"
   ]
  },
  {
   "cell_type": "markdown",
   "metadata": {},
   "source": [
    "## Copyright © IBM Corporation. All rights reserved.\n"
   ]
  },
  {
   "cell_type": "code",
   "execution_count": null,
   "metadata": {},
   "outputs": [],
   "source": []
  }
 ],
 "metadata": {
  "kernelspec": {
   "display_name": "Python 3 (ipykernel)",
   "language": "python",
   "name": "python3"
  },
  "language_info": {
   "codemirror_mode": {
    "name": "ipython",
    "version": 3
   },
   "file_extension": ".py",
   "mimetype": "text/x-python",
   "name": "python",
   "nbconvert_exporter": "python",
   "pygments_lexer": "ipython3",
   "version": "3.12.8"
  },
  "prev_pub_hash": "fa3493caccf457f2b33a3a72ca6bf5789c2ce4157ea6e40534b09cc8380e8ae5"
 },
 "nbformat": 4,
 "nbformat_minor": 4
}
