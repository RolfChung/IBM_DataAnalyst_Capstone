{
 "cells": [
  {
   "cell_type": "markdown",
   "metadata": {},
   "source": [
    "<p style=\"text-align:center\">\n",
    "    <a href=\"https://skills.network/?utm_medium=Exinfluencer&utm_source=Exinfluencer&utm_content=000026UJ&utm_term=10006555&utm_id=NA-SkillsNetwork-Channel-SkillsNetworkCoursesIBMDA0321ENSkillsNetwork928-2022-01-01\" target=\"_blank\">\n",
    "    <img src=\"https://cf-courses-data.s3.us.cloud-object-storage.appdomain.cloud/assets/logos/SN_web_lightmode.png\" width=\"200\" alt=\"Skills Network Logo\"  />\n",
    "    </a>\n",
    "</p>\n"
   ]
  },
  {
   "cell_type": "markdown",
   "metadata": {},
   "source": [
    "# **Hands-on Lab : Web Scraping**\n"
   ]
  },
  {
   "cell_type": "markdown",
   "metadata": {},
   "source": [
    "Estimated time needed: **30 to 45** minutes\n"
   ]
  },
  {
   "cell_type": "markdown",
   "metadata": {},
   "source": [
    "## Objectives\n"
   ]
  },
  {
   "cell_type": "markdown",
   "metadata": {},
   "source": [
    "In this lab you will perform the following:\n"
   ]
  },
  {
   "cell_type": "markdown",
   "metadata": {},
   "source": [
    "* Extract information from a given web site \n",
    "* Write the scraped data into a csv file.\n"
   ]
  },
  {
   "cell_type": "markdown",
   "metadata": {},
   "source": [
    "## Extract information from the given web site\n",
    "You will extract the data from the below web site: <br> \n"
   ]
  },
  {
   "cell_type": "code",
   "execution_count": 2,
   "metadata": {
    "tags": []
   },
   "outputs": [],
   "source": [
    "#this url contains the data you need to scrape\n",
    "url = \"https://cf-courses-data.s3.us.cloud-object-storage.appdomain.cloud/IBM-DA0321EN-SkillsNetwork/labs/datasets/Programming_Languages.html\""
   ]
  },
  {
   "cell_type": "code",
   "execution_count": 2,
   "metadata": {
    "tags": []
   },
   "outputs": [],
   "source": [
    "#this url contains the data you need to scrape\n",
    "url = \"https://cf-courses-data.s3.us.cloud-object-storage.appdomain.cloud/IBM-DA0321EN-SkillsNetwork/labs/datasets/Programming_Languages.html\""
   ]
  },
  {
   "cell_type": "markdown",
   "metadata": {},
   "source": [
    "The data you need to scrape is the **name of the programming language** and **average annual salary**.<br> It is a good idea to open the url in your web broswer and study the contents of the web page before you start to scrape.\n"
   ]
  },
  {
   "cell_type": "markdown",
   "metadata": {},
   "source": [
    "Import the required libraries\n"
   ]
  },
  {
   "cell_type": "code",
   "execution_count": 3,
   "metadata": {
    "tags": []
   },
   "outputs": [],
   "source": [
    "# Your code here\n",
    "import requests\n",
    "from bs4 import BeautifulSoup\n",
    "import time\n",
    "import pandas as pd\n",
    "from urllib.parse import urljoin, urlparse"
   ]
  },
  {
   "cell_type": "markdown",
   "metadata": {},
   "source": [
    "Download the webpage at the url\n"
   ]
  },
  {
   "cell_type": "code",
   "execution_count": 4,
   "metadata": {
    "tags": []
   },
   "outputs": [
    {
     "name": "stdout",
     "output_type": "stream",
     "text": [
      "<class 'requests.models.Response'>\n",
      "200\n"
     ]
    }
   ],
   "source": [
    "#your code goes here\n",
    "response = requests.get(url)\n",
    "\n",
    "print(type(response))\n",
    "print(response.status_code)"
   ]
  },
  {
   "cell_type": "code",
   "execution_count": 5,
   "metadata": {
    "tags": []
   },
   "outputs": [
    {
     "name": "stdout",
     "output_type": "stream",
     "text": [
      "text/html\n"
     ]
    }
   ],
   "source": [
    "content_type = response.headers.get('Content-Type')\n",
    "print(content_type)"
   ]
  },
  {
   "cell_type": "code",
   "execution_count": 6,
   "metadata": {
    "tags": []
   },
   "outputs": [
    {
     "name": "stdout",
     "output_type": "stream",
     "text": [
      "Success°\n"
     ]
    }
   ],
   "source": [
    "if response.status_code == 200:\n",
    "    print(\"Success°\")\n",
    "    html_text = response.text\n",
    "else:\n",
    "    print(f\"Failure to retrieve page: {response.status_code}\")"
   ]
  },
  {
   "cell_type": "code",
   "execution_count": 7,
   "metadata": {
    "tags": []
   },
   "outputs": [
    {
     "data": {
      "text/plain": [
       "'<!doctype html>\\n<html lang=\"en\">\\n<head>\\n<title>\\nSalary survey results of programming languages\\n</title>\\n<style>\\ntable, th, td {\\n  border: 1px solid black;\\n}\\n</style>\\n</head>\\n\\n<body>\\n<hr />\\n<h2>Popular Programming Languages</h2>\\n<hr />\\n<p>Finding out which is the best language is a tough task. A programming language is created to solve a specific problem. A language which is good for task A may not be able to properly handle task B. Comparing programming language is never easy. What we can do, however, is find which is popular in the industry.</p>\\n<p>There are many ways to find the popularity of a programming languages. Counting the number of google searchs for each language is a simple way to find the popularity. GitHub and StackOverflow also can give some good pointers.</p>\\n<p>Salary surveys are a way to find out the programmings languages that are most in demand in the industry. Below table is the result of one such survey. When using any survey keep in mind that the results vary year on year.</p>\\n<hr />\\n<table>\\n<tbody>\\n<tr>\\n<td>No.</td>\\n<td>Language</td>\\n<td>Created By</td>\\n<td>Average Annual Salary</td>\\n<td>Learning Difficulty</td>\\n</tr>\\n<tr>\\n<td>1</td>\\n<td>Python</td>\\n<td>Guido van Rossum</td>\\n<td>$114,383</td>\\n<td>Easy</td>\\n</tr>\\n<tr>\\n<td>2</td>\\n<td>Java</td>\\n<td>James Gosling</td>\\n<td>$101,013</td>\\n<td>Easy</td>\\n</tr>\\n<tr>\\n<td>3</td>\\n<td>R</td>\\n<td>Robert Gentleman, Ross Ihaka</td>\\n<td>$92,037</td>\\n<td>Hard</td>\\n</tr>\\n<tr>\\n<td>4</td>\\n<td>Javascript</td>\\n<td>Netscape</td>\\n<td>$110,981</td>\\n<td>Easy</td>\\n</tr>\\n<tr>\\n<td>5</td>\\n<td>Swift</td>\\n<td>Apple</td>\\n<td>$130,801</td>\\n<td>Easy</td>\\n</tr>\\n<tr>\\n<td>6</td>\\n<td>C++</td>\\n<td>Bjarne Stroustrup</td>\\n<td>$113,865</td>\\n<td>Hard</td>\\n</tr>\\n<tr>\\n<td>7</td>\\n<td>C#</td>\\n<td>Microsoft</td>\\n<td>$88,726</td>\\n<td>Hard</td>\\n</tr>\\n<tr>\\n<td>8</td>\\n<td>PHP</td>\\n<td>Rasmus Lerdorf</td>\\n<td>$84,727</td>\\n<td>Easy</td>\\n</tr>\\n<tr>\\n<td>9</td>\\n<td>SQL</td>\\n<td>Donald D. Chamberlin, Raymond F. Boyce.</td>\\n<td>$84,793</td>\\n<td>Easy</td>\\n</tr>\\n<tr>\\n<td>10</td>\\n<td>Go</td>\\n<td>Robert Griesemer, Ken Thompson, Rob Pike.</td>\\n<td>$94,082</td>\\n<td>Difficult</td>\\n</tr>\\n</tbody>\\n</table>\\n<hr />\\n</body>\\n</html>'"
      ]
     },
     "execution_count": 7,
     "metadata": {},
     "output_type": "execute_result"
    }
   ],
   "source": [
    "html_text"
   ]
  },
  {
   "cell_type": "code",
   "execution_count": 8,
   "metadata": {
    "tags": []
   },
   "outputs": [
    {
     "data": {
      "text/plain": [
       "b'<!doctype html>\\n<html lang=\"en\">\\n<head>\\n<title>\\nSalary survey results of programming languages\\n</title>\\n<style>\\ntable, th, td {\\n  border: 1px solid black;\\n}\\n</style>\\n</head>\\n\\n<body>\\n<hr />\\n<h2>Popular Programming Languages</h2>\\n<hr />\\n<p>Finding out which is the best language is a tough task. A programming language is created to solve a specific problem. A language which is good for task A may not be able to properly handle task B. Comparing programming language is never easy. What we can do, however, is find which is popular in the industry.</p>\\n<p>There are many ways to find the popularity of a programming languages. Counting the number of google searchs for each language is a simple way to find the popularity. GitHub and StackOverflow also can give some good pointers.</p>\\n<p>Salary surveys are a way to find out the programmings languages that are most in demand in the industry. Below table is the result of one such survey. When using any survey keep in mind that the results vary year on year.</p>\\n<hr />\\n<table>\\n<tbody>\\n<tr>\\n<td>No.</td>\\n<td>Language</td>\\n<td>Created By</td>\\n<td>Average Annual Salary</td>\\n<td>Learning Difficulty</td>\\n</tr>\\n<tr>\\n<td>1</td>\\n<td>Python</td>\\n<td>Guido van Rossum</td>\\n<td>$114,383</td>\\n<td>Easy</td>\\n</tr>\\n<tr>\\n<td>2</td>\\n<td>Java</td>\\n<td>James Gosling</td>\\n<td>$101,013</td>\\n<td>Easy</td>\\n</tr>\\n<tr>\\n<td>3</td>\\n<td>R</td>\\n<td>Robert Gentleman, Ross Ihaka</td>\\n<td>$92,037</td>\\n<td>Hard</td>\\n</tr>\\n<tr>\\n<td>4</td>\\n<td>Javascript</td>\\n<td>Netscape</td>\\n<td>$110,981</td>\\n<td>Easy</td>\\n</tr>\\n<tr>\\n<td>5</td>\\n<td>Swift</td>\\n<td>Apple</td>\\n<td>$130,801</td>\\n<td>Easy</td>\\n</tr>\\n<tr>\\n<td>6</td>\\n<td>C++</td>\\n<td>Bjarne Stroustrup</td>\\n<td>$113,865</td>\\n<td>Hard</td>\\n</tr>\\n<tr>\\n<td>7</td>\\n<td>C#</td>\\n<td>Microsoft</td>\\n<td>$88,726</td>\\n<td>Hard</td>\\n</tr>\\n<tr>\\n<td>8</td>\\n<td>PHP</td>\\n<td>Rasmus Lerdorf</td>\\n<td>$84,727</td>\\n<td>Easy</td>\\n</tr>\\n<tr>\\n<td>9</td>\\n<td>SQL</td>\\n<td>Donald D. Chamberlin, Raymond F. Boyce.</td>\\n<td>$84,793</td>\\n<td>Easy</td>\\n</tr>\\n<tr>\\n<td>10</td>\\n<td>Go</td>\\n<td>Robert Griesemer, Ken Thompson, Rob Pike.</td>\\n<td>$94,082</td>\\n<td>Difficult</td>\\n</tr>\\n</tbody>\\n</table>\\n<hr />\\n</body>\\n</html>'"
      ]
     },
     "execution_count": 8,
     "metadata": {},
     "output_type": "execute_result"
    }
   ],
   "source": [
    "response.content"
   ]
  },
  {
   "cell_type": "markdown",
   "metadata": {},
   "source": [
    "Create a soup object\n"
   ]
  },
  {
   "cell_type": "code",
   "execution_count": 9,
   "metadata": {
    "tags": []
   },
   "outputs": [
    {
     "name": "stdout",
     "output_type": "stream",
     "text": [
      "<class 'bs4.BeautifulSoup'>\n",
      "<!DOCTYPE html>\n",
      "\n",
      "<html lang=\"en\">\n",
      "<head>\n",
      "<title>\n",
      "Salary survey results of programming languages\n",
      "</title>\n",
      "<style>\n",
      "table, th, td {\n",
      "  border: 1px solid black;\n",
      "}\n",
      "</style>\n",
      "</head>\n",
      "<body>\n",
      "<hr/>\n",
      "<h2>Popular Programming Languages</h2>\n",
      "<hr/>\n",
      "<p>Finding out which is the best language is a tough task. A programming language is created to solve a specific problem. A language which is good for task A may not be able to properly handle task B. Comparing programming language is never easy. What we can do, however, is find which is popular in the industry.</p>\n",
      "<p>There are many ways to find the popularity of a programming languages. Counting the number of google searchs for each language is a simple way to find the popularity. GitHub and StackOverflow also can give some good pointers.</p>\n",
      "<p>Salary surveys are a way to find out the programmings languages that are most in demand in the industry. Below table is the result of one such survey. When using any survey keep in mind that the results vary year on year.</p>\n",
      "<hr/>\n",
      "<table>\n",
      "<tbody>\n",
      "<tr>\n",
      "<td>No.</td>\n",
      "<td>Language</td>\n",
      "<td>Created By</td>\n",
      "<td>Average Annual Salary</td>\n",
      "<td>Learning Difficulty</td>\n",
      "</tr>\n",
      "<tr>\n",
      "<td>1</td>\n",
      "<td>Python</td>\n",
      "<td>Guido van Rossum</td>\n",
      "<td>$114,383</td>\n",
      "<td>Easy</td>\n",
      "</tr>\n",
      "<tr>\n",
      "<td>2</td>\n",
      "<td>Java</td>\n",
      "<td>James Gosling</td>\n",
      "<td>$101,013</td>\n",
      "<td>Easy</td>\n",
      "</tr>\n",
      "<tr>\n",
      "<td>3</td>\n",
      "<td>R</td>\n",
      "<td>Robert Gentleman, Ross Ihaka</td>\n",
      "<td>$92,037</td>\n",
      "<td>Hard</td>\n",
      "</tr>\n",
      "<tr>\n",
      "<td>4</td>\n",
      "<td>Javascript</td>\n",
      "<td>Netscape</td>\n",
      "<td>$110,981</td>\n",
      "<td>Easy</td>\n",
      "</tr>\n",
      "<tr>\n",
      "<td>5</td>\n",
      "<td>Swift</td>\n",
      "<td>Apple</td>\n",
      "<td>$130,801</td>\n",
      "<td>Easy</td>\n",
      "</tr>\n",
      "<tr>\n",
      "<td>6</td>\n",
      "<td>C++</td>\n",
      "<td>Bjarne Stroustrup</td>\n",
      "<td>$113,865</td>\n",
      "<td>Hard</td>\n",
      "</tr>\n",
      "<tr>\n",
      "<td>7</td>\n",
      "<td>C#</td>\n",
      "<td>Microsoft</td>\n",
      "<td>$88,726</td>\n",
      "<td>Hard</td>\n",
      "</tr>\n",
      "<tr>\n",
      "<td>8</td>\n",
      "<td>PHP</td>\n",
      "<td>Rasmus Lerdorf</td>\n",
      "<td>$84,727</td>\n",
      "<td>Easy</td>\n",
      "</tr>\n",
      "<tr>\n",
      "<td>9</td>\n",
      "<td>SQL</td>\n",
      "<td>Donald D. Chamberlin, Raymond F. Boyce.</td>\n",
      "<td>$84,793</td>\n",
      "<td>Easy</td>\n",
      "</tr>\n",
      "<tr>\n",
      "<td>10</td>\n",
      "<td>Go</td>\n",
      "<td>Robert Griesemer, Ken Thompson, Rob Pike.</td>\n",
      "<td>$94,082</td>\n",
      "<td>Difficult</td>\n",
      "</tr>\n",
      "</tbody>\n",
      "</table>\n",
      "<hr/>\n",
      "</body>\n",
      "</html>\n"
     ]
    }
   ],
   "source": [
    "#your code goes here\n",
    "# soup = BeautifulSoup(html, 'html.parser')\n",
    "\n",
    "soup = BeautifulSoup(response.text, 'html.parser')\n",
    "\n",
    "print(type(soup))\n",
    "\n",
    "print(soup)"
   ]
  },
  {
   "cell_type": "code",
   "execution_count": 10,
   "metadata": {
    "tags": []
   },
   "outputs": [
    {
     "name": "stdout",
     "output_type": "stream",
     "text": [
      "<td>No.</td>\n"
     ]
    }
   ],
   "source": [
    "print(soup.find('td'))"
   ]
  },
  {
   "cell_type": "code",
   "execution_count": 11,
   "metadata": {
    "tags": []
   },
   "outputs": [
    {
     "name": "stdout",
     "output_type": "stream",
     "text": [
      "[<td>No.</td>, <td>Language</td>, <td>Created By</td>, <td>Average Annual Salary</td>, <td>Learning Difficulty</td>, <td>1</td>, <td>Python</td>, <td>Guido van Rossum</td>, <td>$114,383</td>, <td>Easy</td>, <td>2</td>, <td>Java</td>, <td>James Gosling</td>, <td>$101,013</td>, <td>Easy</td>, <td>3</td>, <td>R</td>, <td>Robert Gentleman, Ross Ihaka</td>, <td>$92,037</td>, <td>Hard</td>, <td>4</td>, <td>Javascript</td>, <td>Netscape</td>, <td>$110,981</td>, <td>Easy</td>, <td>5</td>, <td>Swift</td>, <td>Apple</td>, <td>$130,801</td>, <td>Easy</td>, <td>6</td>, <td>C++</td>, <td>Bjarne Stroustrup</td>, <td>$113,865</td>, <td>Hard</td>, <td>7</td>, <td>C#</td>, <td>Microsoft</td>, <td>$88,726</td>, <td>Hard</td>, <td>8</td>, <td>PHP</td>, <td>Rasmus Lerdorf</td>, <td>$84,727</td>, <td>Easy</td>, <td>9</td>, <td>SQL</td>, <td>Donald D. Chamberlin, Raymond F. Boyce.</td>, <td>$84,793</td>, <td>Easy</td>, <td>10</td>, <td>Go</td>, <td>Robert Griesemer, Ken Thompson, Rob Pike.</td>, <td>$94,082</td>, <td>Difficult</td>]\n"
     ]
    }
   ],
   "source": [
    "print(soup.find_all('td'))"
   ]
  },
  {
   "cell_type": "code",
   "execution_count": 12,
   "metadata": {
    "tags": []
   },
   "outputs": [
    {
     "name": "stdout",
     "output_type": "stream",
     "text": [
      "<class 'bs4.element.ResultSet'>\n",
      "<td>No.</td>\n",
      "<td>Language</td>\n",
      "<td>Created By</td>\n"
     ]
    }
   ],
   "source": [
    "tds=soup.find_all('td')\n",
    "print(type(tds))\n",
    "\n",
    "print(tds[0])\n",
    "print(tds[1])\n",
    "print(tds[2])\n"
   ]
  },
  {
   "cell_type": "code",
   "execution_count": 13,
   "metadata": {
    "tags": []
   },
   "outputs": [
    {
     "name": "stdout",
     "output_type": "stream",
     "text": [
      "<td>No.</td>\n",
      "<td>Language</td>\n",
      "<td>Created By</td>\n",
      "<td>Average Annual Salary</td>\n",
      "<td>Learning Difficulty</td>\n",
      "<td>1</td>\n",
      "<td>Python</td>\n",
      "<td>Guido van Rossum</td>\n",
      "<td>$114,383</td>\n",
      "<td>Easy</td>\n",
      "<td>2</td>\n",
      "<td>Java</td>\n",
      "<td>James Gosling</td>\n",
      "<td>$101,013</td>\n",
      "<td>Easy</td>\n",
      "<td>3</td>\n",
      "<td>R</td>\n",
      "<td>Robert Gentleman, Ross Ihaka</td>\n",
      "<td>$92,037</td>\n",
      "<td>Hard</td>\n",
      "<td>4</td>\n",
      "<td>Javascript</td>\n",
      "<td>Netscape</td>\n",
      "<td>$110,981</td>\n",
      "<td>Easy</td>\n",
      "<td>5</td>\n",
      "<td>Swift</td>\n",
      "<td>Apple</td>\n",
      "<td>$130,801</td>\n",
      "<td>Easy</td>\n",
      "<td>6</td>\n",
      "<td>C++</td>\n",
      "<td>Bjarne Stroustrup</td>\n",
      "<td>$113,865</td>\n",
      "<td>Hard</td>\n",
      "<td>7</td>\n",
      "<td>C#</td>\n",
      "<td>Microsoft</td>\n",
      "<td>$88,726</td>\n",
      "<td>Hard</td>\n",
      "<td>8</td>\n",
      "<td>PHP</td>\n",
      "<td>Rasmus Lerdorf</td>\n",
      "<td>$84,727</td>\n",
      "<td>Easy</td>\n",
      "<td>9</td>\n",
      "<td>SQL</td>\n",
      "<td>Donald D. Chamberlin, Raymond F. Boyce.</td>\n",
      "<td>$84,793</td>\n",
      "<td>Easy</td>\n",
      "<td>10</td>\n",
      "<td>Go</td>\n",
      "<td>Robert Griesemer, Ken Thompson, Rob Pike.</td>\n",
      "<td>$94,082</td>\n",
      "<td>Difficult</td>\n"
     ]
    }
   ],
   "source": [
    "for td in tds:\n",
    "    print(td)"
   ]
  },
  {
   "cell_type": "code",
   "execution_count": 14,
   "metadata": {
    "tags": []
   },
   "outputs": [
    {
     "data": {
      "text/plain": [
       "[<td>No.</td>,\n",
       " <td>Language</td>,\n",
       " <td>Created By</td>,\n",
       " <td>Average Annual Salary</td>,\n",
       " <td>Learning Difficulty</td>,\n",
       " <td>1</td>,\n",
       " <td>Python</td>,\n",
       " <td>Guido van Rossum</td>,\n",
       " <td>$114,383</td>,\n",
       " <td>Easy</td>,\n",
       " <td>2</td>,\n",
       " <td>Java</td>,\n",
       " <td>James Gosling</td>,\n",
       " <td>$101,013</td>,\n",
       " <td>Easy</td>,\n",
       " <td>3</td>,\n",
       " <td>R</td>,\n",
       " <td>Robert Gentleman, Ross Ihaka</td>,\n",
       " <td>$92,037</td>,\n",
       " <td>Hard</td>,\n",
       " <td>4</td>,\n",
       " <td>Javascript</td>,\n",
       " <td>Netscape</td>,\n",
       " <td>$110,981</td>,\n",
       " <td>Easy</td>,\n",
       " <td>5</td>,\n",
       " <td>Swift</td>,\n",
       " <td>Apple</td>,\n",
       " <td>$130,801</td>,\n",
       " <td>Easy</td>,\n",
       " <td>6</td>,\n",
       " <td>C++</td>,\n",
       " <td>Bjarne Stroustrup</td>,\n",
       " <td>$113,865</td>,\n",
       " <td>Hard</td>,\n",
       " <td>7</td>,\n",
       " <td>C#</td>,\n",
       " <td>Microsoft</td>,\n",
       " <td>$88,726</td>,\n",
       " <td>Hard</td>,\n",
       " <td>8</td>,\n",
       " <td>PHP</td>,\n",
       " <td>Rasmus Lerdorf</td>,\n",
       " <td>$84,727</td>,\n",
       " <td>Easy</td>,\n",
       " <td>9</td>,\n",
       " <td>SQL</td>,\n",
       " <td>Donald D. Chamberlin, Raymond F. Boyce.</td>,\n",
       " <td>$84,793</td>,\n",
       " <td>Easy</td>,\n",
       " <td>10</td>,\n",
       " <td>Go</td>,\n",
       " <td>Robert Griesemer, Ken Thompson, Rob Pike.</td>,\n",
       " <td>$94,082</td>,\n",
       " <td>Difficult</td>]"
      ]
     },
     "execution_count": 14,
     "metadata": {},
     "output_type": "execute_result"
    }
   ],
   "source": [
    "[td for td in tds]"
   ]
  },
  {
   "cell_type": "code",
   "execution_count": 15,
   "metadata": {},
   "outputs": [
    {
     "name": "stdout",
     "output_type": "stream",
     "text": [
      "<head>\n",
      "<title>\n",
      "Salary survey results of programming languages\n",
      "</title>\n",
      "<style>\n",
      "table, th, td {\n",
      "  border: 1px solid black;\n",
      "}\n",
      "</style>\n",
      "</head>\n"
     ]
    }
   ],
   "source": [
    "print(soup.find('head'))"
   ]
  },
  {
   "cell_type": "code",
   "execution_count": 16,
   "metadata": {
    "tags": []
   },
   "outputs": [
    {
     "name": "stdout",
     "output_type": "stream",
     "text": [
      "None\n"
     ]
    }
   ],
   "source": [
    "print(soup.find('div'))"
   ]
  },
  {
   "cell_type": "code",
   "execution_count": 17,
   "metadata": {
    "tags": []
   },
   "outputs": [
    {
     "name": "stdout",
     "output_type": "stream",
     "text": [
      "None\n"
     ]
    }
   ],
   "source": [
    "print(soup.find('h1'))"
   ]
  },
  {
   "cell_type": "code",
   "execution_count": 18,
   "metadata": {
    "tags": []
   },
   "outputs": [
    {
     "name": "stdout",
     "output_type": "stream",
     "text": [
      "<h2>Popular Programming Languages</h2>\n"
     ]
    }
   ],
   "source": [
    "print(soup.find('h2'))"
   ]
  },
  {
   "cell_type": "code",
   "execution_count": 19,
   "metadata": {
    "tags": []
   },
   "outputs": [
    {
     "name": "stdout",
     "output_type": "stream",
     "text": [
      "<hr/>\n"
     ]
    }
   ],
   "source": [
    "print(soup.find('hr'))"
   ]
  },
  {
   "cell_type": "code",
   "execution_count": 20,
   "metadata": {
    "tags": []
   },
   "outputs": [
    {
     "name": "stdout",
     "output_type": "stream",
     "text": [
      "3\n",
      "<table>\n",
      "<tbody>\n",
      "<tr>\n",
      "<td>No.</td>\n",
      "<td>Language</td>\n",
      "<td>Created By</td>\n",
      "<td>Average Annual Salary</td>\n",
      "<td>Learning Difficulty</td>\n",
      "</tr>\n",
      "<tr>\n",
      "<td>1</td>\n",
      "<td>Python</td>\n",
      "<td>Guido van Rossum</td>\n",
      "<td>$114,383</td>\n",
      "<td>Easy</td>\n",
      "</tr>\n",
      "<tr>\n",
      "<td>2</td>\n",
      "<td>Java</td>\n",
      "<td>James Gosling</td>\n",
      "<td>$101,013</td>\n",
      "<td>Easy</td>\n",
      "</tr>\n",
      "<tr>\n",
      "<td>3</td>\n",
      "<td>R</td>\n",
      "<td>Robert Gentleman, Ross Ihaka</td>\n",
      "<td>$92,037</td>\n",
      "<td>Hard</td>\n",
      "</tr>\n",
      "<tr>\n",
      "<td>4</td>\n",
      "<td>Javascript</td>\n",
      "<td>Netscape</td>\n",
      "<td>$110,981</td>\n",
      "<td>Easy</td>\n",
      "</tr>\n",
      "<tr>\n",
      "<td>5</td>\n",
      "<td>Swift</td>\n",
      "<td>Apple</td>\n",
      "<td>$130,801</td>\n",
      "<td>Easy</td>\n",
      "</tr>\n",
      "<tr>\n",
      "<td>6</td>\n",
      "<td>C++</td>\n",
      "<td>Bjarne Stroustrup</td>\n",
      "<td>$113,865</td>\n",
      "<td>Hard</td>\n",
      "</tr>\n",
      "<tr>\n",
      "<td>7</td>\n",
      "<td>C#</td>\n",
      "<td>Microsoft</td>\n",
      "<td>$88,726</td>\n",
      "<td>Hard</td>\n",
      "</tr>\n",
      "<tr>\n",
      "<td>8</td>\n",
      "<td>PHP</td>\n",
      "<td>Rasmus Lerdorf</td>\n",
      "<td>$84,727</td>\n",
      "<td>Easy</td>\n",
      "</tr>\n",
      "<tr>\n",
      "<td>9</td>\n",
      "<td>SQL</td>\n",
      "<td>Donald D. Chamberlin, Raymond F. Boyce.</td>\n",
      "<td>$84,793</td>\n",
      "<td>Easy</td>\n",
      "</tr>\n",
      "<tr>\n",
      "<td>10</td>\n",
      "<td>Go</td>\n",
      "<td>Robert Griesemer, Ken Thompson, Rob Pike.</td>\n",
      "<td>$94,082</td>\n",
      "<td>Difficult</td>\n",
      "</tr>\n",
      "</tbody>\n",
      "</table>\n"
     ]
    }
   ],
   "source": [
    "atable = soup.find('table')\n",
    "print(len(atable))\n",
    "\n",
    "print(atable)"
   ]
  },
  {
   "cell_type": "code",
   "execution_count": 21,
   "metadata": {
    "tags": []
   },
   "outputs": [
    {
     "name": "stdout",
     "output_type": "stream",
     "text": [
      "0 \n",
      "\n",
      "1 <tbody>\n",
      "<tr>\n",
      "<td>No.</td>\n",
      "<td>Language</td>\n",
      "<td>Created By</td>\n",
      "<td>Average Annual Salary</td>\n",
      "<td>Learning Difficulty</td>\n",
      "</tr>\n",
      "<tr>\n",
      "<td>1</td>\n",
      "<td>Python</td>\n",
      "<td>Guido van Rossum</td>\n",
      "<td>$114,383</td>\n",
      "<td>Easy</td>\n",
      "</tr>\n",
      "<tr>\n",
      "<td>2</td>\n",
      "<td>Java</td>\n",
      "<td>James Gosling</td>\n",
      "<td>$101,013</td>\n",
      "<td>Easy</td>\n",
      "</tr>\n",
      "<tr>\n",
      "<td>3</td>\n",
      "<td>R</td>\n",
      "<td>Robert Gentleman, Ross Ihaka</td>\n",
      "<td>$92,037</td>\n",
      "<td>Hard</td>\n",
      "</tr>\n",
      "<tr>\n",
      "<td>4</td>\n",
      "<td>Javascript</td>\n",
      "<td>Netscape</td>\n",
      "<td>$110,981</td>\n",
      "<td>Easy</td>\n",
      "</tr>\n",
      "<tr>\n",
      "<td>5</td>\n",
      "<td>Swift</td>\n",
      "<td>Apple</td>\n",
      "<td>$130,801</td>\n",
      "<td>Easy</td>\n",
      "</tr>\n",
      "<tr>\n",
      "<td>6</td>\n",
      "<td>C++</td>\n",
      "<td>Bjarne Stroustrup</td>\n",
      "<td>$113,865</td>\n",
      "<td>Hard</td>\n",
      "</tr>\n",
      "<tr>\n",
      "<td>7</td>\n",
      "<td>C#</td>\n",
      "<td>Microsoft</td>\n",
      "<td>$88,726</td>\n",
      "<td>Hard</td>\n",
      "</tr>\n",
      "<tr>\n",
      "<td>8</td>\n",
      "<td>PHP</td>\n",
      "<td>Rasmus Lerdorf</td>\n",
      "<td>$84,727</td>\n",
      "<td>Easy</td>\n",
      "</tr>\n",
      "<tr>\n",
      "<td>9</td>\n",
      "<td>SQL</td>\n",
      "<td>Donald D. Chamberlin, Raymond F. Boyce.</td>\n",
      "<td>$84,793</td>\n",
      "<td>Easy</td>\n",
      "</tr>\n",
      "<tr>\n",
      "<td>10</td>\n",
      "<td>Go</td>\n",
      "<td>Robert Griesemer, Ken Thompson, Rob Pike.</td>\n",
      "<td>$94,082</td>\n",
      "<td>Difficult</td>\n",
      "</tr>\n",
      "</tbody>\n",
      "2 \n",
      "\n"
     ]
    }
   ],
   "source": [
    "for n, at in enumerate(atable):\n",
    "    print(n, at)"
   ]
  },
  {
   "cell_type": "code",
   "execution_count": 22,
   "metadata": {
    "tags": []
   },
   "outputs": [
    {
     "name": "stdout",
     "output_type": "stream",
     "text": [
      "1\n"
     ]
    }
   ],
   "source": [
    "all_tables = soup.find_all('table')\n",
    "print(len(all_tables))"
   ]
  },
  {
   "cell_type": "markdown",
   "metadata": {},
   "source": [
    "Scrape the `Language name` and `annual average salary`.\n"
   ]
  },
  {
   "cell_type": "code",
   "execution_count": 23,
   "metadata": {
    "tags": []
   },
   "outputs": [
    {
     "data": {
      "text/plain": [
       "<td>Language</td>"
      ]
     },
     "execution_count": 23,
     "metadata": {},
     "output_type": "execute_result"
    }
   ],
   "source": [
    "#your code goes here\n",
    "soup.find('td', string='Language') "
   ]
  },
  {
   "cell_type": "code",
   "execution_count": 24,
   "metadata": {
    "tags": []
   },
   "outputs": [
    {
     "data": {
      "text/plain": [
       "<td>Python</td>"
      ]
     },
     "execution_count": 24,
     "metadata": {},
     "output_type": "execute_result"
    }
   ],
   "source": [
    "soup.find('td', string='Python')"
   ]
  },
  {
   "cell_type": "code",
   "execution_count": 25,
   "metadata": {
    "tags": []
   },
   "outputs": [
    {
     "data": {
      "text/plain": [
       "[<td>Language</td>,\n",
       " <td>Python</td>,\n",
       " <td>Java</td>,\n",
       " <td>R</td>,\n",
       " <td>Javascript</td>,\n",
       " <td>Swift</td>,\n",
       " <td>C++</td>,\n",
       " <td>C#</td>,\n",
       " <td>PHP</td>,\n",
       " <td>SQL</td>,\n",
       " <td>Go</td>]"
      ]
     },
     "execution_count": 25,
     "metadata": {},
     "output_type": "execute_result"
    }
   ],
   "source": [
    "languages = soup.select('tr td:nth-child(2)')\n",
    "languages"
   ]
  },
  {
   "cell_type": "code",
   "execution_count": 26,
   "metadata": {
    "tags": []
   },
   "outputs": [
    {
     "data": {
      "text/plain": [
       "[<td>Python</td>,\n",
       " <td>Java</td>,\n",
       " <td>R</td>,\n",
       " <td>Javascript</td>,\n",
       " <td>Swift</td>,\n",
       " <td>C++</td>,\n",
       " <td>C#</td>,\n",
       " <td>PHP</td>,\n",
       " <td>SQL</td>,\n",
       " <td>Go</td>]"
      ]
     },
     "execution_count": 26,
     "metadata": {},
     "output_type": "execute_result"
    }
   ],
   "source": [
    "[language for language in languages[1:]]"
   ]
  },
  {
   "cell_type": "code",
   "execution_count": 27,
   "metadata": {
    "tags": []
   },
   "outputs": [],
   "source": [
    "language_names = [language.get_text() for language in languages[1:]]"
   ]
  },
  {
   "cell_type": "code",
   "execution_count": 56,
   "metadata": {
    "tags": []
   },
   "outputs": [
    {
     "name": "stdout",
     "output_type": "stream",
     "text": [
      "Row 0: has 5 columns\n",
      "Row 1: has 5 columns\n",
      "Row 2: has 5 columns\n",
      "Row 3: has 5 columns\n",
      "Row 4: has 5 columns\n",
      "Row 5: has 5 columns\n",
      "Row 6: has 5 columns\n",
      "Row 7: has 5 columns\n",
      "Row 8: has 5 columns\n",
      "Row 9: has 5 columns\n",
      "Row 10: has 5 columns\n"
     ]
    }
   ],
   "source": [
    "# CSS selector\n",
    "# Find the number of cells per column\n",
    "\n",
    "rows = soup.select('tr')\n",
    "# print(rows)\n",
    "# print(type(rows))\n",
    "\n",
    "for i, row in enumerate(rows):\n",
    "    cells = row.select('td')\n",
    "    # print(cells)\n",
    "    # print(type(cells))\n",
    "    # print(row.get('attribute'))\n",
    "    # print(row.get_text())\n",
    "    # print(row.select('child'))\n",
    "    print(f'Row {i}: has {len(cells)} columns')"
   ]
  },
  {
   "cell_type": "markdown",
   "metadata": {},
   "source": [
    "Save the scrapped data into a file named *popular-languages.csv*\n"
   ]
  },
  {
   "cell_type": "code",
   "execution_count": 42,
   "metadata": {
    "tags": []
   },
   "outputs": [
    {
     "name": "stdout",
     "output_type": "stream",
     "text": [
      "[<td>Language</td>, <td>Python</td>, <td>Java</td>, <td>R</td>, <td>Javascript</td>, <td>Swift</td>, <td>C++</td>, <td>C#</td>, <td>PHP</td>, <td>SQL</td>, <td>Go</td>]\n"
     ]
    }
   ],
   "source": [
    "print(soup.select('tr td:nth-child(2)'))"
   ]
  },
  {
   "cell_type": "code",
   "execution_count": 45,
   "metadata": {
    "tags": []
   },
   "outputs": [
    {
     "name": "stdout",
     "output_type": "stream",
     "text": [
      "[<td>Created By</td>, <td>Guido van Rossum</td>, <td>James Gosling</td>, <td>Robert Gentleman, Ross Ihaka</td>, <td>Netscape</td>, <td>Apple</td>, <td>Bjarne Stroustrup</td>, <td>Microsoft</td>, <td>Rasmus Lerdorf</td>, <td>Donald D. Chamberlin, Raymond F. Boyce.</td>, <td>Robert Griesemer, Ken Thompson, Rob Pike.</td>]\n"
     ]
    }
   ],
   "source": [
    "print(soup.select('tr td:nth-child(3)'))"
   ]
  },
  {
   "cell_type": "code",
   "execution_count": 43,
   "metadata": {},
   "outputs": [
    {
     "name": "stdout",
     "output_type": "stream",
     "text": [
      "[<td>Average Annual Salary</td>, <td>$114,383</td>, <td>$101,013</td>, <td>$92,037</td>, <td>$110,981</td>, <td>$130,801</td>, <td>$113,865</td>, <td>$88,726</td>, <td>$84,727</td>, <td>$84,793</td>, <td>$94,082</td>]\n"
     ]
    }
   ],
   "source": [
    "print(soup.select('tr td:nth-child(4)'))"
   ]
  },
  {
   "cell_type": "code",
   "execution_count": 44,
   "metadata": {
    "tags": []
   },
   "outputs": [
    {
     "name": "stdout",
     "output_type": "stream",
     "text": [
      "[<td>Learning Difficulty</td>, <td>Easy</td>, <td>Easy</td>, <td>Hard</td>, <td>Easy</td>, <td>Easy</td>, <td>Hard</td>, <td>Hard</td>, <td>Easy</td>, <td>Easy</td>, <td>Difficult</td>]\n"
     ]
    }
   ],
   "source": [
    "print(soup.select('tr td:nth-child(5)'))"
   ]
  },
  {
   "cell_type": "markdown",
   "metadata": {},
   "source": [
    "Scrape the `Language name` and `annual average salary`."
   ]
  },
  {
   "cell_type": "code",
   "execution_count": 57,
   "metadata": {
    "tags": []
   },
   "outputs": [
    {
     "data": {
      "text/plain": [
       "[<td>Language</td>,\n",
       " <td>Python</td>,\n",
       " <td>Java</td>,\n",
       " <td>R</td>,\n",
       " <td>Javascript</td>,\n",
       " <td>Swift</td>,\n",
       " <td>C++</td>,\n",
       " <td>C#</td>,\n",
       " <td>PHP</td>,\n",
       " <td>SQL</td>,\n",
       " <td>Go</td>]"
      ]
     },
     "execution_count": 57,
     "metadata": {},
     "output_type": "execute_result"
    }
   ],
   "source": [
    "languages = soup.select('tr td:nth-child(2)')\n",
    "languages"
   ]
  },
  {
   "cell_type": "code",
   "execution_count": 71,
   "metadata": {
    "tags": []
   },
   "outputs": [
    {
     "name": "stdout",
     "output_type": "stream",
     "text": [
      "[114383, 101013, 92037, 110981, 130801, 113865, 88726, 84727, 84793, 94082]\n"
     ]
    }
   ],
   "source": [
    "salary_column = soup.select('tr td:nth-child(4)')\n",
    "\n",
    "\n",
    "annual_average_salary = []\n",
    "for sal in salary_column[1:]:\n",
    "    ansal = sal.get_text()[1:].replace(',', '').strip()\n",
    "    annual_average_salary.append(ansal)\n",
    "    \n",
    "    \n",
    "annual_average_salary_ints = [int(i) for i in annual_average_salary]\n",
    "    \n",
    "    \n",
    "print(annual_average_salary_ints)"
   ]
  },
  {
   "cell_type": "markdown",
   "metadata": {},
   "source": [
    "## Authors\n"
   ]
  },
  {
   "cell_type": "markdown",
   "metadata": {},
   "source": [
    "Ramesh Sannareddy\n"
   ]
  },
  {
   "cell_type": "markdown",
   "metadata": {},
   "source": [
    "### Other Contributors\n"
   ]
  },
  {
   "cell_type": "markdown",
   "metadata": {},
   "source": [
    "Rav Ahuja\n"
   ]
  },
  {
   "cell_type": "markdown",
   "metadata": {},
   "source": [
    "## Change Log\n"
   ]
  },
  {
   "cell_type": "markdown",
   "metadata": {},
   "source": [
    "|  Date (YYYY-MM-DD) |  Version | Changed By  |  Change Description |\n",
    "|---|---|---|---|\n",
    "| 2020-10-17  | 0.1  | Ramesh Sannareddy  |  Created initial version of the lab |\n"
   ]
  },
  {
   "cell_type": "markdown",
   "metadata": {},
   "source": [
    " Copyright &copy; 2020 IBM Corporation. This notebook and its source code are released under the terms of the [MIT License](https://cognitiveclass.ai/mit-license/?utm_medium=Exinfluencer&utm_source=Exinfluencer&utm_content=000026UJ&utm_term=10006555&utm_id=NA-SkillsNetwork-Channel-SkillsNetworkCoursesIBMDA0321ENSkillsNetwork928-2022-01-01).\n"
   ]
  }
 ],
 "metadata": {
  "kernelspec": {
   "display_name": "Python",
   "language": "python",
   "name": "conda-env-python-py"
  },
  "language_info": {
   "codemirror_mode": {
    "name": "ipython",
    "version": 3
   },
   "file_extension": ".py",
   "mimetype": "text/x-python",
   "name": "python",
   "nbconvert_exporter": "python",
   "pygments_lexer": "ipython3",
   "version": "3.7.12"
  }
 },
 "nbformat": 4,
 "nbformat_minor": 4
}
